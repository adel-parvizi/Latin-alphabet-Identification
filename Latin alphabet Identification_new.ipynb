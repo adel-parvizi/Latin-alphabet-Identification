{
  "nbformat": 4,
  "nbformat_minor": 0,
  "metadata": {
    "colab": {
      "provenance": []
    },
    "kernelspec": {
      "name": "python3",
      "display_name": "Python 3"
    },
    "language_info": {
      "name": "python"
    },
    "gpuClass": "standard"
  },
  "cells": [
    {
      "cell_type": "code",
      "source": [
        "import pandas as pd\n",
        "import numpy as np\n",
        "import matplotlib.pyplot as plt"
      ],
      "metadata": {
        "id": "SGWn7XJfs7Eu"
      },
      "execution_count": 1,
      "outputs": []
    },
    {
      "cell_type": "code",
      "source": [
        "from sklearn.model_selection import train_test_split"
      ],
      "metadata": {
        "id": "6X4-oL4TtE97"
      },
      "execution_count": 2,
      "outputs": []
    },
    {
      "cell_type": "code",
      "execution_count": 3,
      "metadata": {
        "id": "jIr6BVexXAhf"
      },
      "outputs": [],
      "source": [
        "import torch\n",
        "from torch.utils.data import TensorDataset, DataLoader\n",
        "from torchvision.transforms import ToTensor\n",
        "import torch.nn as nn\n",
        "import torch.nn.functional as F"
      ]
    },
    {
      "cell_type": "code",
      "source": [
        "from google.colab import drive\n",
        "drive.mount('/content/drive')"
      ],
      "metadata": {
        "id": "IoaF4J-ts98r",
        "outputId": "57ee846e-a25b-419c-e618-0fe2a07ca9b8",
        "colab": {
          "base_uri": "https://localhost:8080/"
        }
      },
      "execution_count": 4,
      "outputs": [
        {
          "output_type": "stream",
          "name": "stdout",
          "text": [
            "Mounted at /content/drive\n"
          ]
        }
      ]
    },
    {
      "cell_type": "code",
      "source": [
        "train_dataset=pd.read_csv('/content/drive/MyDrive/Colab_Notebooks/Deep_Learning/hw2/Data/HW2_data/Q3_train.csv')\n",
        "test_dataset=pd.read_csv('/content/drive/MyDrive/Colab_Notebooks/Deep_Learning/hw2/Data/HW2_data/Q3_test.csv')"
      ],
      "metadata": {
        "id": "1p96VMWwFWYt"
      },
      "execution_count": 5,
      "outputs": []
    },
    {
      "cell_type": "code",
      "source": [
        "train_dataset.tail(5)"
      ],
      "metadata": {
        "id": "yC7qt4FUFfOd",
        "outputId": "9e6b2494-0114-4675-f78b-a8ad6ba53a26",
        "colab": {
          "base_uri": "https://localhost:8080/",
          "height": 255
        }
      },
      "execution_count": 6,
      "outputs": [
        {
          "output_type": "execute_result",
          "data": {
            "text/plain": [
              "       label  pixel1  pixel2  pixel3  pixel4  pixel5  pixel6  pixel7  pixel8  \\\n",
              "27450     13     189     189     190     190     192     193     193     193   \n",
              "27451     23     151     154     157     158     160     161     163     164   \n",
              "27452     18     174     174     174     174     174     175     175     174   \n",
              "27453     17     177     181     184     185     187     189     190     191   \n",
              "27454     23     179     180     180     180     182     181     182     183   \n",
              "\n",
              "       pixel9  ...  pixel775  pixel776  pixel777  pixel778  pixel779  \\\n",
              "27450     193  ...       132       165        99        77        52   \n",
              "27451     166  ...       198       198       198       198       198   \n",
              "27452     173  ...       121       196       209       208       206   \n",
              "27453     191  ...       119        56        27        58       102   \n",
              "27454     182  ...       108       132       170       194       214   \n",
              "\n",
              "       pixel780  pixel781  pixel782  pixel783  pixel784  \n",
              "27450       200       234       200       222       225  \n",
              "27451       196       195       195       195       194  \n",
              "27452       204       203       202       200       200  \n",
              "27453        79        47        64        87        93  \n",
              "27454       203       197       205       209       215  \n",
              "\n",
              "[5 rows x 785 columns]"
            ],
            "text/html": [
              "\n",
              "  <div id=\"df-89d6a8f0-50bb-4a6b-80bd-d1c2ad7b7aa8\" class=\"colab-df-container\">\n",
              "    <div>\n",
              "<style scoped>\n",
              "    .dataframe tbody tr th:only-of-type {\n",
              "        vertical-align: middle;\n",
              "    }\n",
              "\n",
              "    .dataframe tbody tr th {\n",
              "        vertical-align: top;\n",
              "    }\n",
              "\n",
              "    .dataframe thead th {\n",
              "        text-align: right;\n",
              "    }\n",
              "</style>\n",
              "<table border=\"1\" class=\"dataframe\">\n",
              "  <thead>\n",
              "    <tr style=\"text-align: right;\">\n",
              "      <th></th>\n",
              "      <th>label</th>\n",
              "      <th>pixel1</th>\n",
              "      <th>pixel2</th>\n",
              "      <th>pixel3</th>\n",
              "      <th>pixel4</th>\n",
              "      <th>pixel5</th>\n",
              "      <th>pixel6</th>\n",
              "      <th>pixel7</th>\n",
              "      <th>pixel8</th>\n",
              "      <th>pixel9</th>\n",
              "      <th>...</th>\n",
              "      <th>pixel775</th>\n",
              "      <th>pixel776</th>\n",
              "      <th>pixel777</th>\n",
              "      <th>pixel778</th>\n",
              "      <th>pixel779</th>\n",
              "      <th>pixel780</th>\n",
              "      <th>pixel781</th>\n",
              "      <th>pixel782</th>\n",
              "      <th>pixel783</th>\n",
              "      <th>pixel784</th>\n",
              "    </tr>\n",
              "  </thead>\n",
              "  <tbody>\n",
              "    <tr>\n",
              "      <th>27450</th>\n",
              "      <td>13</td>\n",
              "      <td>189</td>\n",
              "      <td>189</td>\n",
              "      <td>190</td>\n",
              "      <td>190</td>\n",
              "      <td>192</td>\n",
              "      <td>193</td>\n",
              "      <td>193</td>\n",
              "      <td>193</td>\n",
              "      <td>193</td>\n",
              "      <td>...</td>\n",
              "      <td>132</td>\n",
              "      <td>165</td>\n",
              "      <td>99</td>\n",
              "      <td>77</td>\n",
              "      <td>52</td>\n",
              "      <td>200</td>\n",
              "      <td>234</td>\n",
              "      <td>200</td>\n",
              "      <td>222</td>\n",
              "      <td>225</td>\n",
              "    </tr>\n",
              "    <tr>\n",
              "      <th>27451</th>\n",
              "      <td>23</td>\n",
              "      <td>151</td>\n",
              "      <td>154</td>\n",
              "      <td>157</td>\n",
              "      <td>158</td>\n",
              "      <td>160</td>\n",
              "      <td>161</td>\n",
              "      <td>163</td>\n",
              "      <td>164</td>\n",
              "      <td>166</td>\n",
              "      <td>...</td>\n",
              "      <td>198</td>\n",
              "      <td>198</td>\n",
              "      <td>198</td>\n",
              "      <td>198</td>\n",
              "      <td>198</td>\n",
              "      <td>196</td>\n",
              "      <td>195</td>\n",
              "      <td>195</td>\n",
              "      <td>195</td>\n",
              "      <td>194</td>\n",
              "    </tr>\n",
              "    <tr>\n",
              "      <th>27452</th>\n",
              "      <td>18</td>\n",
              "      <td>174</td>\n",
              "      <td>174</td>\n",
              "      <td>174</td>\n",
              "      <td>174</td>\n",
              "      <td>174</td>\n",
              "      <td>175</td>\n",
              "      <td>175</td>\n",
              "      <td>174</td>\n",
              "      <td>173</td>\n",
              "      <td>...</td>\n",
              "      <td>121</td>\n",
              "      <td>196</td>\n",
              "      <td>209</td>\n",
              "      <td>208</td>\n",
              "      <td>206</td>\n",
              "      <td>204</td>\n",
              "      <td>203</td>\n",
              "      <td>202</td>\n",
              "      <td>200</td>\n",
              "      <td>200</td>\n",
              "    </tr>\n",
              "    <tr>\n",
              "      <th>27453</th>\n",
              "      <td>17</td>\n",
              "      <td>177</td>\n",
              "      <td>181</td>\n",
              "      <td>184</td>\n",
              "      <td>185</td>\n",
              "      <td>187</td>\n",
              "      <td>189</td>\n",
              "      <td>190</td>\n",
              "      <td>191</td>\n",
              "      <td>191</td>\n",
              "      <td>...</td>\n",
              "      <td>119</td>\n",
              "      <td>56</td>\n",
              "      <td>27</td>\n",
              "      <td>58</td>\n",
              "      <td>102</td>\n",
              "      <td>79</td>\n",
              "      <td>47</td>\n",
              "      <td>64</td>\n",
              "      <td>87</td>\n",
              "      <td>93</td>\n",
              "    </tr>\n",
              "    <tr>\n",
              "      <th>27454</th>\n",
              "      <td>23</td>\n",
              "      <td>179</td>\n",
              "      <td>180</td>\n",
              "      <td>180</td>\n",
              "      <td>180</td>\n",
              "      <td>182</td>\n",
              "      <td>181</td>\n",
              "      <td>182</td>\n",
              "      <td>183</td>\n",
              "      <td>182</td>\n",
              "      <td>...</td>\n",
              "      <td>108</td>\n",
              "      <td>132</td>\n",
              "      <td>170</td>\n",
              "      <td>194</td>\n",
              "      <td>214</td>\n",
              "      <td>203</td>\n",
              "      <td>197</td>\n",
              "      <td>205</td>\n",
              "      <td>209</td>\n",
              "      <td>215</td>\n",
              "    </tr>\n",
              "  </tbody>\n",
              "</table>\n",
              "<p>5 rows × 785 columns</p>\n",
              "</div>\n",
              "    <div class=\"colab-df-buttons\">\n",
              "\n",
              "  <div class=\"colab-df-container\">\n",
              "    <button class=\"colab-df-convert\" onclick=\"convertToInteractive('df-89d6a8f0-50bb-4a6b-80bd-d1c2ad7b7aa8')\"\n",
              "            title=\"Convert this dataframe to an interactive table.\"\n",
              "            style=\"display:none;\">\n",
              "\n",
              "  <svg xmlns=\"http://www.w3.org/2000/svg\" height=\"24px\" viewBox=\"0 -960 960 960\">\n",
              "    <path d=\"M120-120v-720h720v720H120Zm60-500h600v-160H180v160Zm220 220h160v-160H400v160Zm0 220h160v-160H400v160ZM180-400h160v-160H180v160Zm440 0h160v-160H620v160ZM180-180h160v-160H180v160Zm440 0h160v-160H620v160Z\"/>\n",
              "  </svg>\n",
              "    </button>\n",
              "\n",
              "  <style>\n",
              "    .colab-df-container {\n",
              "      display:flex;\n",
              "      gap: 12px;\n",
              "    }\n",
              "\n",
              "    .colab-df-convert {\n",
              "      background-color: #E8F0FE;\n",
              "      border: none;\n",
              "      border-radius: 50%;\n",
              "      cursor: pointer;\n",
              "      display: none;\n",
              "      fill: #1967D2;\n",
              "      height: 32px;\n",
              "      padding: 0 0 0 0;\n",
              "      width: 32px;\n",
              "    }\n",
              "\n",
              "    .colab-df-convert:hover {\n",
              "      background-color: #E2EBFA;\n",
              "      box-shadow: 0px 1px 2px rgba(60, 64, 67, 0.3), 0px 1px 3px 1px rgba(60, 64, 67, 0.15);\n",
              "      fill: #174EA6;\n",
              "    }\n",
              "\n",
              "    .colab-df-buttons div {\n",
              "      margin-bottom: 4px;\n",
              "    }\n",
              "\n",
              "    [theme=dark] .colab-df-convert {\n",
              "      background-color: #3B4455;\n",
              "      fill: #D2E3FC;\n",
              "    }\n",
              "\n",
              "    [theme=dark] .colab-df-convert:hover {\n",
              "      background-color: #434B5C;\n",
              "      box-shadow: 0px 1px 3px 1px rgba(0, 0, 0, 0.15);\n",
              "      filter: drop-shadow(0px 1px 2px rgba(0, 0, 0, 0.3));\n",
              "      fill: #FFFFFF;\n",
              "    }\n",
              "  </style>\n",
              "\n",
              "    <script>\n",
              "      const buttonEl =\n",
              "        document.querySelector('#df-89d6a8f0-50bb-4a6b-80bd-d1c2ad7b7aa8 button.colab-df-convert');\n",
              "      buttonEl.style.display =\n",
              "        google.colab.kernel.accessAllowed ? 'block' : 'none';\n",
              "\n",
              "      async function convertToInteractive(key) {\n",
              "        const element = document.querySelector('#df-89d6a8f0-50bb-4a6b-80bd-d1c2ad7b7aa8');\n",
              "        const dataTable =\n",
              "          await google.colab.kernel.invokeFunction('convertToInteractive',\n",
              "                                                    [key], {});\n",
              "        if (!dataTable) return;\n",
              "\n",
              "        const docLinkHtml = 'Like what you see? Visit the ' +\n",
              "          '<a target=\"_blank\" href=https://colab.research.google.com/notebooks/data_table.ipynb>data table notebook</a>'\n",
              "          + ' to learn more about interactive tables.';\n",
              "        element.innerHTML = '';\n",
              "        dataTable['output_type'] = 'display_data';\n",
              "        await google.colab.output.renderOutput(dataTable, element);\n",
              "        const docLink = document.createElement('div');\n",
              "        docLink.innerHTML = docLinkHtml;\n",
              "        element.appendChild(docLink);\n",
              "      }\n",
              "    </script>\n",
              "  </div>\n",
              "\n",
              "\n",
              "<div id=\"df-e757a044-2b56-4c50-97f1-7878ade2a761\">\n",
              "  <button class=\"colab-df-quickchart\" onclick=\"quickchart('df-e757a044-2b56-4c50-97f1-7878ade2a761')\"\n",
              "            title=\"Suggest charts\"\n",
              "            style=\"display:none;\">\n",
              "\n",
              "<svg xmlns=\"http://www.w3.org/2000/svg\" height=\"24px\"viewBox=\"0 0 24 24\"\n",
              "     width=\"24px\">\n",
              "    <g>\n",
              "        <path d=\"M19 3H5c-1.1 0-2 .9-2 2v14c0 1.1.9 2 2 2h14c1.1 0 2-.9 2-2V5c0-1.1-.9-2-2-2zM9 17H7v-7h2v7zm4 0h-2V7h2v10zm4 0h-2v-4h2v4z\"/>\n",
              "    </g>\n",
              "</svg>\n",
              "  </button>\n",
              "\n",
              "<style>\n",
              "  .colab-df-quickchart {\n",
              "      --bg-color: #E8F0FE;\n",
              "      --fill-color: #1967D2;\n",
              "      --hover-bg-color: #E2EBFA;\n",
              "      --hover-fill-color: #174EA6;\n",
              "      --disabled-fill-color: #AAA;\n",
              "      --disabled-bg-color: #DDD;\n",
              "  }\n",
              "\n",
              "  [theme=dark] .colab-df-quickchart {\n",
              "      --bg-color: #3B4455;\n",
              "      --fill-color: #D2E3FC;\n",
              "      --hover-bg-color: #434B5C;\n",
              "      --hover-fill-color: #FFFFFF;\n",
              "      --disabled-bg-color: #3B4455;\n",
              "      --disabled-fill-color: #666;\n",
              "  }\n",
              "\n",
              "  .colab-df-quickchart {\n",
              "    background-color: var(--bg-color);\n",
              "    border: none;\n",
              "    border-radius: 50%;\n",
              "    cursor: pointer;\n",
              "    display: none;\n",
              "    fill: var(--fill-color);\n",
              "    height: 32px;\n",
              "    padding: 0;\n",
              "    width: 32px;\n",
              "  }\n",
              "\n",
              "  .colab-df-quickchart:hover {\n",
              "    background-color: var(--hover-bg-color);\n",
              "    box-shadow: 0 1px 2px rgba(60, 64, 67, 0.3), 0 1px 3px 1px rgba(60, 64, 67, 0.15);\n",
              "    fill: var(--button-hover-fill-color);\n",
              "  }\n",
              "\n",
              "  .colab-df-quickchart-complete:disabled,\n",
              "  .colab-df-quickchart-complete:disabled:hover {\n",
              "    background-color: var(--disabled-bg-color);\n",
              "    fill: var(--disabled-fill-color);\n",
              "    box-shadow: none;\n",
              "  }\n",
              "\n",
              "  .colab-df-spinner {\n",
              "    border: 2px solid var(--fill-color);\n",
              "    border-color: transparent;\n",
              "    border-bottom-color: var(--fill-color);\n",
              "    animation:\n",
              "      spin 1s steps(1) infinite;\n",
              "  }\n",
              "\n",
              "  @keyframes spin {\n",
              "    0% {\n",
              "      border-color: transparent;\n",
              "      border-bottom-color: var(--fill-color);\n",
              "      border-left-color: var(--fill-color);\n",
              "    }\n",
              "    20% {\n",
              "      border-color: transparent;\n",
              "      border-left-color: var(--fill-color);\n",
              "      border-top-color: var(--fill-color);\n",
              "    }\n",
              "    30% {\n",
              "      border-color: transparent;\n",
              "      border-left-color: var(--fill-color);\n",
              "      border-top-color: var(--fill-color);\n",
              "      border-right-color: var(--fill-color);\n",
              "    }\n",
              "    40% {\n",
              "      border-color: transparent;\n",
              "      border-right-color: var(--fill-color);\n",
              "      border-top-color: var(--fill-color);\n",
              "    }\n",
              "    60% {\n",
              "      border-color: transparent;\n",
              "      border-right-color: var(--fill-color);\n",
              "    }\n",
              "    80% {\n",
              "      border-color: transparent;\n",
              "      border-right-color: var(--fill-color);\n",
              "      border-bottom-color: var(--fill-color);\n",
              "    }\n",
              "    90% {\n",
              "      border-color: transparent;\n",
              "      border-bottom-color: var(--fill-color);\n",
              "    }\n",
              "  }\n",
              "</style>\n",
              "\n",
              "  <script>\n",
              "    async function quickchart(key) {\n",
              "      const quickchartButtonEl =\n",
              "        document.querySelector('#' + key + ' button');\n",
              "      quickchartButtonEl.disabled = true;  // To prevent multiple clicks.\n",
              "      quickchartButtonEl.classList.add('colab-df-spinner');\n",
              "      try {\n",
              "        const charts = await google.colab.kernel.invokeFunction(\n",
              "            'suggestCharts', [key], {});\n",
              "      } catch (error) {\n",
              "        console.error('Error during call to suggestCharts:', error);\n",
              "      }\n",
              "      quickchartButtonEl.classList.remove('colab-df-spinner');\n",
              "      quickchartButtonEl.classList.add('colab-df-quickchart-complete');\n",
              "    }\n",
              "    (() => {\n",
              "      let quickchartButtonEl =\n",
              "        document.querySelector('#df-e757a044-2b56-4c50-97f1-7878ade2a761 button');\n",
              "      quickchartButtonEl.style.display =\n",
              "        google.colab.kernel.accessAllowed ? 'block' : 'none';\n",
              "    })();\n",
              "  </script>\n",
              "</div>\n",
              "    </div>\n",
              "  </div>\n"
            ]
          },
          "metadata": {},
          "execution_count": 6
        }
      ]
    },
    {
      "cell_type": "code",
      "source": [
        "test_dataset.tail(5)"
      ],
      "metadata": {
        "id": "6MkAWLdfGUVb",
        "outputId": "9a045b8a-47f7-4d63-90d6-525f0058dc2e",
        "colab": {
          "base_uri": "https://localhost:8080/",
          "height": 255
        }
      },
      "execution_count": 7,
      "outputs": [
        {
          "output_type": "execute_result",
          "data": {
            "text/plain": [
              "      label  pixel1  pixel2  pixel3  pixel4  pixel5  pixel6  pixel7  pixel8  \\\n",
              "7167      1     135     119     108     102     105      99      61     103   \n",
              "7168     12     157     159     161     164     166     166     171     174   \n",
              "7169      2     190     191     190     191     190     190     192     192   \n",
              "7170      4     201     205     208     209     214     216     218     223   \n",
              "7171      2     173     174     173     174     173     173     175     175   \n",
              "\n",
              "      pixel9  ...  pixel775  pixel776  pixel777  pixel778  pixel779  pixel780  \\\n",
              "7167     121  ...       108       112       116       114       118       180   \n",
              "7168     175  ...       213       213       213       214       213       211   \n",
              "7169     191  ...       216       215       213       214       214       213   \n",
              "7170     226  ...       112       169       255       255       237       113   \n",
              "7171     174  ...       201       200       197       198       198       197   \n",
              "\n",
              "      pixel781  pixel782  pixel783  pixel784  \n",
              "7167       184       176       167       163  \n",
              "7168       210       210       209       208  \n",
              "7169       210       211       209       208  \n",
              "7170        91        67        70        63  \n",
              "7171       195       195       193       192  \n",
              "\n",
              "[5 rows x 785 columns]"
            ],
            "text/html": [
              "\n",
              "  <div id=\"df-16f84074-3f9b-446f-9fc8-0c021132ee7f\" class=\"colab-df-container\">\n",
              "    <div>\n",
              "<style scoped>\n",
              "    .dataframe tbody tr th:only-of-type {\n",
              "        vertical-align: middle;\n",
              "    }\n",
              "\n",
              "    .dataframe tbody tr th {\n",
              "        vertical-align: top;\n",
              "    }\n",
              "\n",
              "    .dataframe thead th {\n",
              "        text-align: right;\n",
              "    }\n",
              "</style>\n",
              "<table border=\"1\" class=\"dataframe\">\n",
              "  <thead>\n",
              "    <tr style=\"text-align: right;\">\n",
              "      <th></th>\n",
              "      <th>label</th>\n",
              "      <th>pixel1</th>\n",
              "      <th>pixel2</th>\n",
              "      <th>pixel3</th>\n",
              "      <th>pixel4</th>\n",
              "      <th>pixel5</th>\n",
              "      <th>pixel6</th>\n",
              "      <th>pixel7</th>\n",
              "      <th>pixel8</th>\n",
              "      <th>pixel9</th>\n",
              "      <th>...</th>\n",
              "      <th>pixel775</th>\n",
              "      <th>pixel776</th>\n",
              "      <th>pixel777</th>\n",
              "      <th>pixel778</th>\n",
              "      <th>pixel779</th>\n",
              "      <th>pixel780</th>\n",
              "      <th>pixel781</th>\n",
              "      <th>pixel782</th>\n",
              "      <th>pixel783</th>\n",
              "      <th>pixel784</th>\n",
              "    </tr>\n",
              "  </thead>\n",
              "  <tbody>\n",
              "    <tr>\n",
              "      <th>7167</th>\n",
              "      <td>1</td>\n",
              "      <td>135</td>\n",
              "      <td>119</td>\n",
              "      <td>108</td>\n",
              "      <td>102</td>\n",
              "      <td>105</td>\n",
              "      <td>99</td>\n",
              "      <td>61</td>\n",
              "      <td>103</td>\n",
              "      <td>121</td>\n",
              "      <td>...</td>\n",
              "      <td>108</td>\n",
              "      <td>112</td>\n",
              "      <td>116</td>\n",
              "      <td>114</td>\n",
              "      <td>118</td>\n",
              "      <td>180</td>\n",
              "      <td>184</td>\n",
              "      <td>176</td>\n",
              "      <td>167</td>\n",
              "      <td>163</td>\n",
              "    </tr>\n",
              "    <tr>\n",
              "      <th>7168</th>\n",
              "      <td>12</td>\n",
              "      <td>157</td>\n",
              "      <td>159</td>\n",
              "      <td>161</td>\n",
              "      <td>164</td>\n",
              "      <td>166</td>\n",
              "      <td>166</td>\n",
              "      <td>171</td>\n",
              "      <td>174</td>\n",
              "      <td>175</td>\n",
              "      <td>...</td>\n",
              "      <td>213</td>\n",
              "      <td>213</td>\n",
              "      <td>213</td>\n",
              "      <td>214</td>\n",
              "      <td>213</td>\n",
              "      <td>211</td>\n",
              "      <td>210</td>\n",
              "      <td>210</td>\n",
              "      <td>209</td>\n",
              "      <td>208</td>\n",
              "    </tr>\n",
              "    <tr>\n",
              "      <th>7169</th>\n",
              "      <td>2</td>\n",
              "      <td>190</td>\n",
              "      <td>191</td>\n",
              "      <td>190</td>\n",
              "      <td>191</td>\n",
              "      <td>190</td>\n",
              "      <td>190</td>\n",
              "      <td>192</td>\n",
              "      <td>192</td>\n",
              "      <td>191</td>\n",
              "      <td>...</td>\n",
              "      <td>216</td>\n",
              "      <td>215</td>\n",
              "      <td>213</td>\n",
              "      <td>214</td>\n",
              "      <td>214</td>\n",
              "      <td>213</td>\n",
              "      <td>210</td>\n",
              "      <td>211</td>\n",
              "      <td>209</td>\n",
              "      <td>208</td>\n",
              "    </tr>\n",
              "    <tr>\n",
              "      <th>7170</th>\n",
              "      <td>4</td>\n",
              "      <td>201</td>\n",
              "      <td>205</td>\n",
              "      <td>208</td>\n",
              "      <td>209</td>\n",
              "      <td>214</td>\n",
              "      <td>216</td>\n",
              "      <td>218</td>\n",
              "      <td>223</td>\n",
              "      <td>226</td>\n",
              "      <td>...</td>\n",
              "      <td>112</td>\n",
              "      <td>169</td>\n",
              "      <td>255</td>\n",
              "      <td>255</td>\n",
              "      <td>237</td>\n",
              "      <td>113</td>\n",
              "      <td>91</td>\n",
              "      <td>67</td>\n",
              "      <td>70</td>\n",
              "      <td>63</td>\n",
              "    </tr>\n",
              "    <tr>\n",
              "      <th>7171</th>\n",
              "      <td>2</td>\n",
              "      <td>173</td>\n",
              "      <td>174</td>\n",
              "      <td>173</td>\n",
              "      <td>174</td>\n",
              "      <td>173</td>\n",
              "      <td>173</td>\n",
              "      <td>175</td>\n",
              "      <td>175</td>\n",
              "      <td>174</td>\n",
              "      <td>...</td>\n",
              "      <td>201</td>\n",
              "      <td>200</td>\n",
              "      <td>197</td>\n",
              "      <td>198</td>\n",
              "      <td>198</td>\n",
              "      <td>197</td>\n",
              "      <td>195</td>\n",
              "      <td>195</td>\n",
              "      <td>193</td>\n",
              "      <td>192</td>\n",
              "    </tr>\n",
              "  </tbody>\n",
              "</table>\n",
              "<p>5 rows × 785 columns</p>\n",
              "</div>\n",
              "    <div class=\"colab-df-buttons\">\n",
              "\n",
              "  <div class=\"colab-df-container\">\n",
              "    <button class=\"colab-df-convert\" onclick=\"convertToInteractive('df-16f84074-3f9b-446f-9fc8-0c021132ee7f')\"\n",
              "            title=\"Convert this dataframe to an interactive table.\"\n",
              "            style=\"display:none;\">\n",
              "\n",
              "  <svg xmlns=\"http://www.w3.org/2000/svg\" height=\"24px\" viewBox=\"0 -960 960 960\">\n",
              "    <path d=\"M120-120v-720h720v720H120Zm60-500h600v-160H180v160Zm220 220h160v-160H400v160Zm0 220h160v-160H400v160ZM180-400h160v-160H180v160Zm440 0h160v-160H620v160ZM180-180h160v-160H180v160Zm440 0h160v-160H620v160Z\"/>\n",
              "  </svg>\n",
              "    </button>\n",
              "\n",
              "  <style>\n",
              "    .colab-df-container {\n",
              "      display:flex;\n",
              "      gap: 12px;\n",
              "    }\n",
              "\n",
              "    .colab-df-convert {\n",
              "      background-color: #E8F0FE;\n",
              "      border: none;\n",
              "      border-radius: 50%;\n",
              "      cursor: pointer;\n",
              "      display: none;\n",
              "      fill: #1967D2;\n",
              "      height: 32px;\n",
              "      padding: 0 0 0 0;\n",
              "      width: 32px;\n",
              "    }\n",
              "\n",
              "    .colab-df-convert:hover {\n",
              "      background-color: #E2EBFA;\n",
              "      box-shadow: 0px 1px 2px rgba(60, 64, 67, 0.3), 0px 1px 3px 1px rgba(60, 64, 67, 0.15);\n",
              "      fill: #174EA6;\n",
              "    }\n",
              "\n",
              "    .colab-df-buttons div {\n",
              "      margin-bottom: 4px;\n",
              "    }\n",
              "\n",
              "    [theme=dark] .colab-df-convert {\n",
              "      background-color: #3B4455;\n",
              "      fill: #D2E3FC;\n",
              "    }\n",
              "\n",
              "    [theme=dark] .colab-df-convert:hover {\n",
              "      background-color: #434B5C;\n",
              "      box-shadow: 0px 1px 3px 1px rgba(0, 0, 0, 0.15);\n",
              "      filter: drop-shadow(0px 1px 2px rgba(0, 0, 0, 0.3));\n",
              "      fill: #FFFFFF;\n",
              "    }\n",
              "  </style>\n",
              "\n",
              "    <script>\n",
              "      const buttonEl =\n",
              "        document.querySelector('#df-16f84074-3f9b-446f-9fc8-0c021132ee7f button.colab-df-convert');\n",
              "      buttonEl.style.display =\n",
              "        google.colab.kernel.accessAllowed ? 'block' : 'none';\n",
              "\n",
              "      async function convertToInteractive(key) {\n",
              "        const element = document.querySelector('#df-16f84074-3f9b-446f-9fc8-0c021132ee7f');\n",
              "        const dataTable =\n",
              "          await google.colab.kernel.invokeFunction('convertToInteractive',\n",
              "                                                    [key], {});\n",
              "        if (!dataTable) return;\n",
              "\n",
              "        const docLinkHtml = 'Like what you see? Visit the ' +\n",
              "          '<a target=\"_blank\" href=https://colab.research.google.com/notebooks/data_table.ipynb>data table notebook</a>'\n",
              "          + ' to learn more about interactive tables.';\n",
              "        element.innerHTML = '';\n",
              "        dataTable['output_type'] = 'display_data';\n",
              "        await google.colab.output.renderOutput(dataTable, element);\n",
              "        const docLink = document.createElement('div');\n",
              "        docLink.innerHTML = docLinkHtml;\n",
              "        element.appendChild(docLink);\n",
              "      }\n",
              "    </script>\n",
              "  </div>\n",
              "\n",
              "\n",
              "<div id=\"df-d3e81235-e86e-4bb7-96eb-665f17600acc\">\n",
              "  <button class=\"colab-df-quickchart\" onclick=\"quickchart('df-d3e81235-e86e-4bb7-96eb-665f17600acc')\"\n",
              "            title=\"Suggest charts\"\n",
              "            style=\"display:none;\">\n",
              "\n",
              "<svg xmlns=\"http://www.w3.org/2000/svg\" height=\"24px\"viewBox=\"0 0 24 24\"\n",
              "     width=\"24px\">\n",
              "    <g>\n",
              "        <path d=\"M19 3H5c-1.1 0-2 .9-2 2v14c0 1.1.9 2 2 2h14c1.1 0 2-.9 2-2V5c0-1.1-.9-2-2-2zM9 17H7v-7h2v7zm4 0h-2V7h2v10zm4 0h-2v-4h2v4z\"/>\n",
              "    </g>\n",
              "</svg>\n",
              "  </button>\n",
              "\n",
              "<style>\n",
              "  .colab-df-quickchart {\n",
              "      --bg-color: #E8F0FE;\n",
              "      --fill-color: #1967D2;\n",
              "      --hover-bg-color: #E2EBFA;\n",
              "      --hover-fill-color: #174EA6;\n",
              "      --disabled-fill-color: #AAA;\n",
              "      --disabled-bg-color: #DDD;\n",
              "  }\n",
              "\n",
              "  [theme=dark] .colab-df-quickchart {\n",
              "      --bg-color: #3B4455;\n",
              "      --fill-color: #D2E3FC;\n",
              "      --hover-bg-color: #434B5C;\n",
              "      --hover-fill-color: #FFFFFF;\n",
              "      --disabled-bg-color: #3B4455;\n",
              "      --disabled-fill-color: #666;\n",
              "  }\n",
              "\n",
              "  .colab-df-quickchart {\n",
              "    background-color: var(--bg-color);\n",
              "    border: none;\n",
              "    border-radius: 50%;\n",
              "    cursor: pointer;\n",
              "    display: none;\n",
              "    fill: var(--fill-color);\n",
              "    height: 32px;\n",
              "    padding: 0;\n",
              "    width: 32px;\n",
              "  }\n",
              "\n",
              "  .colab-df-quickchart:hover {\n",
              "    background-color: var(--hover-bg-color);\n",
              "    box-shadow: 0 1px 2px rgba(60, 64, 67, 0.3), 0 1px 3px 1px rgba(60, 64, 67, 0.15);\n",
              "    fill: var(--button-hover-fill-color);\n",
              "  }\n",
              "\n",
              "  .colab-df-quickchart-complete:disabled,\n",
              "  .colab-df-quickchart-complete:disabled:hover {\n",
              "    background-color: var(--disabled-bg-color);\n",
              "    fill: var(--disabled-fill-color);\n",
              "    box-shadow: none;\n",
              "  }\n",
              "\n",
              "  .colab-df-spinner {\n",
              "    border: 2px solid var(--fill-color);\n",
              "    border-color: transparent;\n",
              "    border-bottom-color: var(--fill-color);\n",
              "    animation:\n",
              "      spin 1s steps(1) infinite;\n",
              "  }\n",
              "\n",
              "  @keyframes spin {\n",
              "    0% {\n",
              "      border-color: transparent;\n",
              "      border-bottom-color: var(--fill-color);\n",
              "      border-left-color: var(--fill-color);\n",
              "    }\n",
              "    20% {\n",
              "      border-color: transparent;\n",
              "      border-left-color: var(--fill-color);\n",
              "      border-top-color: var(--fill-color);\n",
              "    }\n",
              "    30% {\n",
              "      border-color: transparent;\n",
              "      border-left-color: var(--fill-color);\n",
              "      border-top-color: var(--fill-color);\n",
              "      border-right-color: var(--fill-color);\n",
              "    }\n",
              "    40% {\n",
              "      border-color: transparent;\n",
              "      border-right-color: var(--fill-color);\n",
              "      border-top-color: var(--fill-color);\n",
              "    }\n",
              "    60% {\n",
              "      border-color: transparent;\n",
              "      border-right-color: var(--fill-color);\n",
              "    }\n",
              "    80% {\n",
              "      border-color: transparent;\n",
              "      border-right-color: var(--fill-color);\n",
              "      border-bottom-color: var(--fill-color);\n",
              "    }\n",
              "    90% {\n",
              "      border-color: transparent;\n",
              "      border-bottom-color: var(--fill-color);\n",
              "    }\n",
              "  }\n",
              "</style>\n",
              "\n",
              "  <script>\n",
              "    async function quickchart(key) {\n",
              "      const quickchartButtonEl =\n",
              "        document.querySelector('#' + key + ' button');\n",
              "      quickchartButtonEl.disabled = true;  // To prevent multiple clicks.\n",
              "      quickchartButtonEl.classList.add('colab-df-spinner');\n",
              "      try {\n",
              "        const charts = await google.colab.kernel.invokeFunction(\n",
              "            'suggestCharts', [key], {});\n",
              "      } catch (error) {\n",
              "        console.error('Error during call to suggestCharts:', error);\n",
              "      }\n",
              "      quickchartButtonEl.classList.remove('colab-df-spinner');\n",
              "      quickchartButtonEl.classList.add('colab-df-quickchart-complete');\n",
              "    }\n",
              "    (() => {\n",
              "      let quickchartButtonEl =\n",
              "        document.querySelector('#df-d3e81235-e86e-4bb7-96eb-665f17600acc button');\n",
              "      quickchartButtonEl.style.display =\n",
              "        google.colab.kernel.accessAllowed ? 'block' : 'none';\n",
              "    })();\n",
              "  </script>\n",
              "</div>\n",
              "    </div>\n",
              "  </div>\n"
            ]
          },
          "metadata": {},
          "execution_count": 7
        }
      ]
    },
    {
      "cell_type": "markdown",
      "source": [
        "      By showing our train and test data we realized that:\n",
        "\n",
        "      there are 27454 samples data for training\n",
        "      there are 7171 samples data for testing our network\n",
        "      there are 784 features which they are associated with an images pixels"
      ],
      "metadata": {
        "id": "65Nlj9__Ga_d"
      }
    },
    {
      "cell_type": "markdown",
      "source": [
        "Extracting label data for train and tests samples"
      ],
      "metadata": {
        "id": "ZUyAKJNqIIQ7"
      }
    },
    {
      "cell_type": "code",
      "source": [
        "train_labels = train_dataset[\"label\"].values\n",
        "test_labels = test_dataset[\"label\"].values"
      ],
      "metadata": {
        "id": "XfAKTfY-HN_9"
      },
      "execution_count": 8,
      "outputs": []
    },
    {
      "cell_type": "code",
      "source": [
        "train_images = train_dataset.iloc[0:].drop('label', axis=1).to_numpy(dtype = 'float32')\n",
        "test_images = test_dataset.iloc[0:].drop('label', axis=1).to_numpy(dtype = 'float32')\n",
        "\n",
        "print(train_images.shape)\n",
        "print(test_images.shape)"
      ],
      "metadata": {
        "id": "sXckYy4eIHxE",
        "outputId": "3106f60b-f52e-4184-ae5d-00101f0edd11",
        "colab": {
          "base_uri": "https://localhost:8080/"
        }
      },
      "execution_count": 9,
      "outputs": [
        {
          "output_type": "stream",
          "name": "stdout",
          "text": [
            "(27455, 784)\n",
            "(7172, 784)\n"
          ]
        }
      ]
    },
    {
      "cell_type": "code",
      "source": [
        "# train1 = train_dataset.copy(deep = True)\n",
        "# test1 = test_dataset.copy(deep = True)\n",
        "# train_images = train1.iloc[:, 1:].to_numpy(dtype = 'float32')\n",
        "# test_images = test1.iloc[:, 1:].to_numpy(dtype = 'float32')"
      ],
      "metadata": {
        "id": "cqG1c0ZaialU"
      },
      "execution_count": 10,
      "outputs": []
    },
    {
      "cell_type": "code",
      "source": [
        "test_images.reshape((7172, 28, -1)).shape"
      ],
      "metadata": {
        "id": "-smLgfuKjFTU",
        "outputId": "215e04df-e6d7-4783-f4d7-98dff3477daa",
        "colab": {
          "base_uri": "https://localhost:8080/"
        }
      },
      "execution_count": 11,
      "outputs": [
        {
          "output_type": "execute_result",
          "data": {
            "text/plain": [
              "(7172, 28, 28)"
            ]
          },
          "metadata": {},
          "execution_count": 11
        }
      ]
    },
    {
      "cell_type": "code",
      "source": [
        "train_images = train_images.reshape(train_images.shape[0], 1, 28, 28)\n",
        "test_images = test_images.reshape(test_images.shape[0], 1, 28, 28)\n",
        "\n",
        "print(train_images.shape,\n",
        "      '\\n',\n",
        "      test_images.shape\n",
        "      )"
      ],
      "metadata": {
        "id": "Ulp7BGxlXfpG",
        "colab": {
          "base_uri": "https://localhost:8080/"
        },
        "outputId": "b926c53a-0d16-4c0d-a1a4-25f1f04fb3ae"
      },
      "execution_count": 12,
      "outputs": [
        {
          "output_type": "stream",
          "name": "stdout",
          "text": [
            "(27455, 1, 28, 28) \n",
            " (7172, 1, 28, 28)\n"
          ]
        }
      ]
    },
    {
      "cell_type": "code",
      "source": [
        "device = \"cpu\"\n",
        "\n",
        "train_images_tensors = torch.from_numpy(train_images).to(device)\n",
        "train_labels_tensors = torch.from_numpy(train_labels).to(device)\n",
        "\n",
        "test_images_tensors = torch.from_numpy(test_images).to(device)\n",
        "test_labels_tensors = torch.from_numpy(test_labels).to(device)\n",
        "\n",
        "print(\n",
        "    train_images_tensors.shape, '\\n',\n",
        "    train_labels_tensors.shape, '\\n\\n',\n",
        "    test_images_tensors.shape, '\\n',\n",
        "    test_labels_tensors.shape\n",
        ")"
      ],
      "metadata": {
        "id": "C5l9DqxloioG",
        "outputId": "12c99f04-f872-4a5f-9c3c-3942251e5e7e",
        "colab": {
          "base_uri": "https://localhost:8080/"
        }
      },
      "execution_count": 13,
      "outputs": [
        {
          "output_type": "stream",
          "name": "stdout",
          "text": [
            "torch.Size([27455, 1, 28, 28]) \n",
            " torch.Size([27455]) \n",
            "\n",
            " torch.Size([7172, 1, 28, 28]) \n",
            " torch.Size([7172])\n"
          ]
        }
      ]
    },
    {
      "cell_type": "code",
      "source": [
        "train_images_tensors.dtype"
      ],
      "metadata": {
        "id": "0fxc6qvJlRqG",
        "outputId": "e289979c-0321-4775-eb23-97d7f87a3eb1",
        "colab": {
          "base_uri": "https://localhost:8080/"
        }
      },
      "execution_count": 14,
      "outputs": [
        {
          "output_type": "execute_result",
          "data": {
            "text/plain": [
              "torch.float32"
            ]
          },
          "metadata": {},
          "execution_count": 14
        }
      ]
    },
    {
      "cell_type": "code",
      "source": [
        "train_dataset = TensorDataset(train_images_tensors, train_labels_tensors)\n",
        "test_dataset = TensorDataset(test_images_tensors, test_labels_tensors)"
      ],
      "metadata": {
        "id": "1MqCbpjnj9bK"
      },
      "execution_count": 15,
      "outputs": []
    },
    {
      "cell_type": "code",
      "source": [
        "len(train_dataset), len(test_dataset)"
      ],
      "metadata": {
        "id": "z0y8UiF9rYAy",
        "outputId": "93a3eb55-3721-4011-f366-07d899970181",
        "colab": {
          "base_uri": "https://localhost:8080/"
        }
      },
      "execution_count": 16,
      "outputs": [
        {
          "output_type": "execute_result",
          "data": {
            "text/plain": [
              "(27455, 7172)"
            ]
          },
          "metadata": {},
          "execution_count": 16
        }
      ]
    },
    {
      "cell_type": "code",
      "source": [
        "itr_test_dataset = iter(test_dataset)"
      ],
      "metadata": {
        "id": "altZf-gvnIlK"
      },
      "execution_count": 17,
      "outputs": []
    },
    {
      "cell_type": "code",
      "source": [
        "first_sample = next(itr_test_dataset)"
      ],
      "metadata": {
        "id": "UAiHddGNnP_1"
      },
      "execution_count": 18,
      "outputs": []
    },
    {
      "cell_type": "code",
      "source": [
        "first_sample[0].shape, first_sample[1]"
      ],
      "metadata": {
        "colab": {
          "base_uri": "https://localhost:8080/"
        },
        "id": "kX-rV63EbDmk",
        "outputId": "77dfc45c-a9d7-4a7d-a002-69a4058885c3"
      },
      "execution_count": 19,
      "outputs": [
        {
          "output_type": "execute_result",
          "data": {
            "text/plain": [
              "(torch.Size([1, 28, 28]), tensor(6))"
            ]
          },
          "metadata": {},
          "execution_count": 19
        }
      ]
    },
    {
      "cell_type": "code",
      "source": [
        "train_ds, validation_ds = train_test_split(train_dataset, test_size=0.25, random_state=42)\n",
        "len(train_ds), len(validation_ds), len(test_dataset)"
      ],
      "metadata": {
        "colab": {
          "base_uri": "https://localhost:8080/"
        },
        "id": "PmbmzvJtvDOb",
        "outputId": "890d0d4f-926b-4472-ea6b-941b441f66eb"
      },
      "execution_count": 20,
      "outputs": [
        {
          "output_type": "execute_result",
          "data": {
            "text/plain": [
              "(20591, 6864, 7172)"
            ]
          },
          "metadata": {},
          "execution_count": 20
        }
      ]
    },
    {
      "cell_type": "code",
      "source": [
        "learning_rate = 1e-3\n",
        "batch_size = 64\n",
        "epochs = 10\n",
        "input_size=784\n",
        "num_classes=26"
      ],
      "metadata": {
        "id": "8DaWUSxve9gD"
      },
      "execution_count": 21,
      "outputs": []
    },
    {
      "cell_type": "code",
      "source": [
        "plt.imshow(train_ds[5][0].squeeze(), cmap=\"gray\")\n",
        "plt.title(f'{train_ds[5][1].item()}')\n",
        "plt.show()"
      ],
      "metadata": {
        "id": "J9J3GC3tdpOK",
        "colab": {
          "base_uri": "https://localhost:8080/",
          "height": 452
        },
        "outputId": "49195925-8dfb-4127-fe26-42ed0a09f40f"
      },
      "execution_count": 22,
      "outputs": [
        {
          "output_type": "display_data",
          "data": {
            "text/plain": [
              "<Figure size 640x480 with 1 Axes>"
            ],
            "image/png": "[encoded data removed]"
          },
          "metadata": {}
        }
      ]
    },
    {
      "cell_type": "code",
      "source": [
        "labels_map = {0:\"A\", 1:\"B\", 2:\"C\", 3:\"D\",\n",
        "              4:\"E\", 5:\"F\", 6:\"G\", 7:\"H\",\n",
        "              8:\"I\", 10:\"K\", 11:\"L\", 12:\"M\",\n",
        "              13:\"N\", 14:\"O\", 15:\"P\", 16:\"Q\",\n",
        "              17:\"R\", 18:\"S\", 19:\"T\", 20:\"U\",\n",
        "              21:\"V\", 22:\"W\", 23:\"X\", 24:\"Y\"}"
      ],
      "metadata": {
        "id": "CuPvFT2Mo-95"
      },
      "execution_count": 23,
      "outputs": []
    },
    {
      "cell_type": "code",
      "source": [
        "torch.randint(len(train_dataset), size=(1, 1)).item()"
      ],
      "metadata": {
        "id": "svplHlvmrRVb",
        "outputId": "eb6ad28e-7ee3-42c0-8790-9697974661b1",
        "colab": {
          "base_uri": "https://localhost:8080/"
        }
      },
      "execution_count": 24,
      "outputs": [
        {
          "output_type": "execute_result",
          "data": {
            "text/plain": [
              "18116"
            ]
          },
          "metadata": {},
          "execution_count": 24
        }
      ]
    },
    {
      "cell_type": "code",
      "source": [
        "figure = plt.figure(figsize=(8, 8))\n",
        "cols, rows = 3, 3\n",
        "\n",
        "for i in range(1, cols * rows + 1):\n",
        "\n",
        "    sample_idx = torch.randint(len(train_dataset ), size=(1,)).item()\n",
        "    img, label = train_dataset[sample_idx]\n",
        "    label = labels_map[label.item()]\n",
        "\n",
        "    figure.add_subplot(rows, cols, i)\n",
        "    plt.title(label)\n",
        "    plt.axis(\"off\")\n",
        "    plt.imshow(img.squeeze(), cmap=\"gray\")\n",
        "plt.show()"
      ],
      "metadata": {
        "colab": {
          "base_uri": "https://localhost:8080/",
          "height": 675
        },
        "id": "oU6EuzHWu5vy",
        "outputId": "bec5c944-782b-4ee6-af3c-c7167ef14fc4"
      },
      "execution_count": 25,
      "outputs": [
        {
          "output_type": "display_data",
          "data": {
            "text/plain": [
              "<Figure size 800x800 with 9 Axes>"
            ],
            "image/png": "[encoded data removed]"
          },
          "metadata": {}
        }
      ]
    },
    {
      "cell_type": "code",
      "source": [
        "device = \"cuda\" if torch.cuda.is_available() else \"cpu\"\n",
        "print(f\"Using {device} device\")\n",
        "\n",
        "train_images_tensors = torch.from_numpy(train_images).to(device)\n",
        "train_labels_tensors = torch.from_numpy(train_labels).to(device)\n",
        "\n",
        "test_images_tensors = torch.from_numpy(test_images).to(device)\n",
        "test_labels_tensors = torch.from_numpy(test_labels).to(device)\n",
        "\n",
        "train_dataset = TensorDataset(train_images_tensors, train_labels_tensors)\n",
        "test_dataset = TensorDataset(test_images_tensors, test_labels_tensors)\n",
        "\n",
        "train_ds, validation_ds = train_test_split(train_dataset, test_size=0.25, random_state=42)\n",
        "len(train_ds), len(validation_ds), len(test_dataset)"
      ],
      "metadata": {
        "colab": {
          "base_uri": "https://localhost:8080/"
        },
        "id": "lnUdCA3IK5KT",
        "outputId": "154d1962-fcde-46e8-fe63-664b86cf7134"
      },
      "execution_count": 26,
      "outputs": [
        {
          "output_type": "stream",
          "name": "stdout",
          "text": [
            "Using cpu device\n"
          ]
        },
        {
          "output_type": "execute_result",
          "data": {
            "text/plain": [
              "(20591, 6864, 7172)"
            ]
          },
          "metadata": {},
          "execution_count": 26
        }
      ]
    },
    {
      "cell_type": "code",
      "source": [
        "train_loader = DataLoader(train_ds, batch_size, shuffle=True)\n",
        "val_loader = DataLoader(validation_ds, batch_size, shuffle=True)\n",
        "test_loader = DataLoader(test_dataset,batch_size,  shuffle=True)"
      ],
      "metadata": {
        "id": "EGqdDTxjOn8z"
      },
      "execution_count": 27,
      "outputs": []
    },
    {
      "cell_type": "code",
      "source": [
        "b_0 = iter(val_loader)\n",
        "b_0 = next(b_0)\n",
        "print('first batch labels :\\n', b_0[1])"
      ],
      "metadata": {
        "id": "XXxvwnDQuqRx",
        "outputId": "4fffc59a-bb02-4f21-8a3f-458ece130ada",
        "colab": {
          "base_uri": "https://localhost:8080/"
        }
      },
      "execution_count": 28,
      "outputs": [
        {
          "output_type": "stream",
          "name": "stdout",
          "text": [
            "first batch labels :\n",
            " tensor([20, 17, 14, 23,  5,  5,  8, 21, 24, 12,  8,  0,  6,  7, 12, 15, 10, 13,\n",
            "         4, 18, 12, 11, 16,  3, 13,  6,  6, 14, 23, 19, 14, 17,  6, 17, 17, 15,\n",
            "        19,  0,  2, 13, 15, 22, 22, 14,  5,  8, 11,  6, 13, 18, 19, 11, 18, 24,\n",
            "        19,  6, 16,  8,  6, 16, 20, 15, 10,  3])\n"
          ]
        }
      ]
    },
    {
      "cell_type": "code",
      "source": [
        "def accuracy(outputs, labels):\n",
        "    _, preds = torch.max(outputs, dim=1)\n",
        "    return (torch.tensor(torch.sum(preds == labels).item() / len(preds)))*100"
      ],
      "metadata": {
        "id": "Wl0ezXiCcxh1"
      },
      "execution_count": 29,
      "outputs": []
    },
    {
      "cell_type": "code",
      "source": [
        "from torchsummary import summary"
      ],
      "metadata": {
        "id": "zUCV6XpKeCnc"
      },
      "execution_count": 30,
      "outputs": []
    },
    {
      "cell_type": "code",
      "source": [
        "class FC_Network(nn.Module):\n",
        "\n",
        "    def __init__(self, input_dim):\n",
        "        super().__init__()\n",
        "        self.flatten = nn.Flatten()\n",
        "        self.fc_1 = nn.Linear(input_dim, 512)\n",
        "        self.fc_2 = nn.Linear(512, 1024)\n",
        "        self.fc_3 = nn.Linear(1024, 512)\n",
        "        self.fc_4 = nn.Linear(512, 256)\n",
        "        self.fc_5 = nn.Linear(256, 26)\n",
        "        self.relu = nn.ReLU()\n",
        "\n",
        "    def forward(self, x):\n",
        "\n",
        "        x = self.flatten(x)\n",
        "        x = self.fc_1(x)\n",
        "        x = self.fc_2( self.relu( x ) )\n",
        "        x = self.fc_3( self.relu( x ) )\n",
        "        x = self.fc_4( self.relu( x ) )\n",
        "        x = self.fc_5( self.relu( x ) )\n",
        "        return x"
      ],
      "metadata": {
        "id": "lcKjWISeSb8y"
      },
      "execution_count": 41,
      "outputs": []
    },
    {
      "cell_type": "code",
      "source": [
        "import torch.nn as nn\n"
      ],
      "metadata": {
        "id": "fPXyLCqkFzym"
      },
      "execution_count": null,
      "outputs": []
    },
    {
      "cell_type": "code",
      "source": [
        "input = torch.randn(64, 28, 28)\n",
        "print(input.shape)\n",
        "model_1 = FC_Network(784)\n",
        "model_1(input).shape"
      ],
      "metadata": {
        "id": "sy1AfgG6IkuN",
        "outputId": "a2c174d4-5004-42f4-aa91-2cf9afe192b8",
        "colab": {
          "base_uri": "https://localhost:8080/"
        }
      },
      "execution_count": 43,
      "outputs": [
        {
          "output_type": "stream",
          "name": "stdout",
          "text": [
            "torch.Size([64, 28, 28])\n"
          ]
        },
        {
          "output_type": "execute_result",
          "data": {
            "text/plain": [
              "torch.Size([64, 26])"
            ]
          },
          "metadata": {},
          "execution_count": 43
        }
      ]
    },
    {
      "cell_type": "code",
      "source": [
        "class CNN_Network(nn.Module):\n",
        "\n",
        "    def __init__(self, input_dim):\n",
        "        super().__init__()\n",
        "        self.c_1 = nn.Conv2d(in_channels=1, out_channels=8, kernel_size=3, stride=1, padding=1)\n",
        "        self.c_2 = nn.Conv2d(in_channels=8, out_channels=16, kernel_size=3, stride=2, padding=1)\n",
        "        self.c_3 = nn.Conv2d(in_channels=16, out_channels=16, kernel_size=3, stride=2, padding=1)\n",
        "        self.c_4 = nn.Conv2d(in_channels=16, out_channels=8, kernel_size=3, stride=2, padding=1)\n",
        "        self.c_5 = nn.Conv2d(in_channels=8, out_channels=8, kernel_size=3, stride=2, padding=1)\n",
        "        self.relu = nn.ReLU()\n",
        "        self.fc = nn.Linear(32, 26)\n",
        "\n",
        "    def forward(self, x):\n",
        "\n",
        "        x = self.c_1(x)\n",
        "        print(x.shape)\n",
        "        x = self.c_2( self.relu( x ) )\n",
        "        print(x.shape)\n",
        "        x = self.c_3( self.relu( x ) )\n",
        "        print(x.shape)\n",
        "        x = self.c_4( self.relu( x ) )\n",
        "        print(x.shape)\n",
        "        x = self.c_5( self.relu( x ) )\n",
        "        print(x.shape)\n",
        "        x = x.view(-1, 8 * 2 * 2)\n",
        "        x = self.fc( self.relu( x ) )\n",
        "        return x"
      ],
      "metadata": {
        "id": "iRxAS3wuFk8B"
      },
      "execution_count": 64,
      "outputs": []
    },
    {
      "cell_type": "code",
      "source": [
        "input.view(-1, 64 * 28 * 28).shape"
      ],
      "metadata": {
        "id": "4eEYGj1NL2Fw",
        "outputId": "0cf17cf2-56b3-4288-8d79-c57d0634d823",
        "colab": {
          "base_uri": "https://localhost:8080/"
        }
      },
      "execution_count": 65,
      "outputs": [
        {
          "output_type": "execute_result",
          "data": {
            "text/plain": [
              "torch.Size([1, 50176])"
            ]
          },
          "metadata": {},
          "execution_count": 65
        }
      ]
    },
    {
      "cell_type": "code",
      "source": [
        "input = torch.randn(64, 1, 28, 28)\n",
        "print(input.shape)\n",
        "model_1 = CNN_Network(784)\n",
        "model_1(input).shape"
      ],
      "metadata": {
        "id": "OrnS01jXKl2V",
        "outputId": "010aa4ec-9f2a-41ab-9713-4a23e9b00faa",
        "colab": {
          "base_uri": "https://localhost:8080/"
        }
      },
      "execution_count": 66,
      "outputs": [
        {
          "output_type": "stream",
          "name": "stdout",
          "text": [
            "torch.Size([64, 1, 28, 28])\n",
            "torch.Size([64, 8, 28, 28])\n",
            "torch.Size([64, 16, 14, 14])\n",
            "torch.Size([64, 16, 7, 7])\n",
            "torch.Size([64, 8, 4, 4])\n",
            "torch.Size([64, 8, 2, 2])\n"
          ]
        },
        {
          "output_type": "execute_result",
          "data": {
            "text/plain": [
              "torch.Size([64, 26])"
            ]
          },
          "metadata": {},
          "execution_count": 66
        }
      ]
    },
    {
      "cell_type": "code",
      "source": [
        "model = Network(784)"
      ],
      "metadata": {
        "id": "xVbH7ZVmV7m4"
      },
      "execution_count": 32,
      "outputs": []
    },
    {
      "cell_type": "code",
      "source": [
        "summary(model, (1, 1, 28, 28))"
      ],
      "metadata": {
        "id": "T0Zwzql9eEBc",
        "outputId": "e6f9bd9e-4083-4114-d6f2-7e689ea7bcb3",
        "colab": {
          "base_uri": "https://localhost:8080/"
        }
      },
      "execution_count": 33,
      "outputs": [
        {
          "output_type": "stream",
          "name": "stdout",
          "text": [
            "----------------------------------------------------------------\n",
            "        Layer (type)               Output Shape         Param #\n",
            "================================================================\n",
            "           Flatten-1                  [-1, 784]               0\n",
            "            Linear-2                  [-1, 512]         401,920\n",
            "              ReLU-3                  [-1, 512]               0\n",
            "            Linear-4                 [-1, 1024]         525,312\n",
            "              ReLU-5                 [-1, 1024]               0\n",
            "            Linear-6                  [-1, 512]         524,800\n",
            "              ReLU-7                  [-1, 512]               0\n",
            "            Linear-8                  [-1, 256]         131,328\n",
            "              ReLU-9                  [-1, 256]               0\n",
            "           Linear-10                   [-1, 26]           6,682\n",
            "================================================================\n",
            "Total params: 1,590,042\n",
            "Trainable params: 1,590,042\n",
            "Non-trainable params: 0\n",
            "----------------------------------------------------------------\n",
            "Input size (MB): 0.00\n",
            "Forward/backward pass size (MB): 0.04\n",
            "Params size (MB): 6.07\n",
            "Estimated Total Size (MB): 6.11\n",
            "----------------------------------------------------------------\n"
          ]
        }
      ]
    },
    {
      "cell_type": "code",
      "source": [
        "EPOCH = 10\n",
        "LOSS_FUNC = nn.CrossEntropyLoss()\n",
        "OPTIMIZER = torch.optim.SGD(model.parameters(), lr=0.001, momentum=0.9)"
      ],
      "metadata": {
        "id": "BY3XsvquegDs"
      },
      "execution_count": 34,
      "outputs": []
    },
    {
      "cell_type": "code",
      "source": [
        "def epoch_train(model, train_loader, loss_func, optimizer):\n",
        "\n",
        "    acc_loss = 0\n",
        "    for labels, images in train_loader:\n",
        "\n",
        "        optimizer.zero_grad()\n",
        "\n",
        "        output = model(images)\n",
        "        loss = loss_func(output, labels)\n",
        "\n",
        "        loss.back_ward()\n",
        "        optimizer.step()\n",
        "        acc_loss += loss\n",
        "\n",
        "    return acc_loss/len(train_loader)"
      ],
      "metadata": {
        "id": "d1GyvMY15acx"
      },
      "execution_count": null,
      "outputs": []
    },
    {
      "cell_type": "code",
      "source": [
        "best_loss = 1_000_000\n",
        "for epoch in range(EPOCH):\n",
        "\n",
        "    model.train()\n",
        "\n",
        "    loss = epoch_train(model, train_loader, LOSS_FUNC)\n",
        "\n",
        "    val_loss = 0\n",
        "    model.eval()\n",
        "    with torch.no_grad:\n",
        "        for labels, images in val_loader:\n",
        "            outputs = model(images)\n",
        "            val_loss += LOSS_FUNC(outputs, labels)\n",
        "            pred = torch.argmax(outputs, axis=1)\n",
        "\n",
        "    avg_loss_val = val_loss/len(val_loader)\n",
        "    if avg_loss_val < best_loss:\n",
        "        best_loss = avg_loss_val\n",
        "        model_path = f\"model_{epoch}\"\n",
        "        torch.save(model.state_dict(), model_path)"
      ],
      "metadata": {
        "id": "96M69UtyRau_"
      },
      "execution_count": null,
      "outputs": []
    },
    {
      "cell_type": "code",
      "source": [
        "class NeuralNetwork(nn.Module):\n",
        "\n",
        "    def __init__(self, in_size, out_size):\n",
        "        super().__init__()\n",
        "        self.flatten = nn.Flatten()\n",
        "        self.linear1 = nn.Linear(in_size, 416)\n",
        "        self.linear2 = nn.Linear(416, 208)\n",
        "        self.linear3 = nn.Linear(208, 104)\n",
        "        # self.linear4 = nn.Linear(104,52)\n",
        "        self.linear5=nn.Linear(104, 26)\n",
        "        self.relu = nn.ReLU()\n",
        "\n",
        "    def forward(self, x):\n",
        "        x = self.flatten(x)\n",
        "        x = self.linear1(x)\n",
        "        x = self.relu(x)\n",
        "        x = self.linear2(x)\n",
        "        x = self.relu(x)\n",
        "        x = self.linear3(x)\n",
        "        x = self.relu(x)\n",
        "        # x = self.linear4(x)\n",
        "        # x = self.relu(x)\n",
        "        logits = self.linear5(x)\n",
        "        return logits\n",
        "\n",
        "    def training_part(self, batch):\n",
        "        images, labels = batch\n",
        "        out = self.forward(images)\n",
        "        loss = F.cross_entropy(out, labels)\n",
        "        return loss\n",
        "\n",
        "    def train_part(self, batch):\n",
        "        images, labels = batch\n",
        "        out = self.forward(images)\n",
        "        loss = F.cross_entropy(out, labels)\n",
        "        acc = accuracy(out, labels)\n",
        "        return {'train_loss': loss, 'train_acc': acc}\n",
        "\n",
        "    def train_epoch_end(self, outputs):\n",
        "        batch_losses = [x['train_loss'] for x in outputs]\n",
        "        epoch_loss = torch.stack(batch_losses).mean()\n",
        "        batch_accs = [x['train_acc'] for x in outputs]\n",
        "        epoch_acc = torch.stack(batch_accs).mean()\n",
        "        return {'train_loss': epoch_loss.item(), 'train_acc': epoch_acc.item()}\n",
        "\n",
        "    def validation_part(self, batch):\n",
        "        images, labels = batch\n",
        "        out = self.forward(images)\n",
        "        loss = F.cross_entropy(out, labels)\n",
        "        acc = accuracy(out, labels)\n",
        "        return {'val_loss': loss, 'val_acc': acc}\n",
        "\n",
        "    def validation_epoch_end(self, outputs):\n",
        "        batch_losses = [x['val_loss'] for x in outputs]\n",
        "        epoch_loss = torch.stack(batch_losses).mean()\n",
        "        batch_accs = [x['val_acc'] for x in outputs]\n",
        "        epoch_acc = torch.stack(batch_accs).mean()\n",
        "        return {'val_loss': epoch_loss.item(), 'val_acc': epoch_acc.item()}\n",
        "\n",
        "    def test_part(self, batch):\n",
        "        images, labels = batch\n",
        "        out = self.forward(images)\n",
        "        loss = F.cross_entropy(out, labels)\n",
        "        acc = accuracy(out, labels)\n",
        "        return {'test_loss': loss, 'test_acc': acc}\n",
        "\n",
        "    def test_epoch_end(self, outputs):\n",
        "        batch_losses = [x['test_loss'] for x in outputs]\n",
        "        epoch_loss = torch.stack(batch_losses).mean()\n",
        "        batch_accs = [x['test_acc'] for x in outputs]\n",
        "        epoch_acc = torch.stack(batch_accs).mean()\n",
        "        return {'test_loss': epoch_loss.item(), 'test_acc': epoch_acc.item()}\n",
        "\n",
        "    def epoch_end(self, epoch,  trn_r, val_r, tst_r):\n",
        "        print(\"Epoch [{}], train_loss: {:.4f}, train_acc: {:.4f}\".format(epoch, trn_r['train_loss'], trn_r['train_acc']))\n",
        "        print(\"Epoch [{}], validation_loss: {:.4f}, validation_acc: {:.4f}\".format(epoch, val_r['val_loss'], val_r['val_acc']))\n",
        "        print(\"Epoch [{}], test_loss: {:.4f}, test_acc: {:.4f}\\n\".format(epoch, tst_r['test_loss'], tst_r['test_acc']))"
      ],
      "metadata": {
        "id": "xisx6GoouHp3"
      },
      "execution_count": 150,
      "outputs": []
    },
    {
      "cell_type": "code",
      "source": [
        "def evaluate_val(model, val_loader):\n",
        "    outputs = [model.validation_part(batch) for batch in val_loader]\n",
        "    return model.validation_epoch_end(outputs)\n",
        "\n",
        "def evaluate_tst(model, tst_loader):\n",
        "    outputs = [model.test_part(batch) for batch in tst_loader]\n",
        "    return model.test_epoch_end(outputs)\n",
        "\n",
        "def evaluate_trn(model, trn_loader):\n",
        "    outputs = [model.train_part(batch) for batch in trn_loader]\n",
        "    return model.train_epoch_end(outputs)\n",
        "\n",
        "def fit(epochs, LEARNING_RATE, model, train_loader, val_loader, tst_loader, opt_func=torch.optim.SGD):\n",
        "\n",
        "    history = []\n",
        "    optimizer = opt_func(model.parameters(), LEARNING_RATE)\n",
        "    for epoch in range(epochs):\n",
        "        # Training Phase\n",
        "        for batch in train_loader:\n",
        "            loss = model.training_part(batch)\n",
        "             # Backpropagation\n",
        "            loss.backward()\n",
        "            optimizer.step()\n",
        "            optimizer.zero_grad()\n",
        "\n",
        "        trn_r = evaluate_trn(model, train_loader)\n",
        "        val_r = evaluate_val(model, val_loader)\n",
        "        tst_r = evaluate_tst(model, tst_loader)\n",
        "        print(tst_r['test_acc'])\n",
        "        model.epoch_end(epoch, trn_r, val_r, tst_r)\n",
        "        history.append([trn_r, val_r, tst_r])\n",
        "    return history"
      ],
      "metadata": {
        "id": "EjCacINAwphF"
      },
      "execution_count": 151,
      "outputs": []
    },
    {
      "cell_type": "code",
      "source": [
        "torch.manual_seed(42)\n",
        "model = NeuralNetwork(input_size, out_size = 26).to(device)\n",
        "model.train()"
      ],
      "metadata": {
        "colab": {
          "base_uri": "https://localhost:8080/"
        },
        "id": "Orc9P7PE_IpN",
        "outputId": "631fb8a9-868b-4308-d0f6-33d391feafa8"
      },
      "execution_count": 152,
      "outputs": [
        {
          "output_type": "execute_result",
          "data": {
            "text/plain": [
              "NeuralNetwork(\n",
              "  (flatten): Flatten(start_dim=1, end_dim=-1)\n",
              "  (linear1): Linear(in_features=784, out_features=416, bias=True)\n",
              "  (linear2): Linear(in_features=416, out_features=208, bias=True)\n",
              "  (linear3): Linear(in_features=208, out_features=104, bias=True)\n",
              "  (linear5): Linear(in_features=104, out_features=26, bias=True)\n",
              "  (relu): ReLU()\n",
              ")"
            ]
          },
          "metadata": {},
          "execution_count": 152
        }
      ]
    },
    {
      "cell_type": "code",
      "source": [
        "history = [evaluate_val(model, val_dataloader)]\n",
        "history"
      ],
      "metadata": {
        "id": "Ar7oNEQs4iJO",
        "colab": {
          "base_uri": "https://localhost:8080/"
        },
        "outputId": "2f6fc2e4-6138-433b-d15a-51a650018ba9"
      },
      "execution_count": null,
      "outputs": [
        {
          "output_type": "execute_result",
          "data": {
            "text/plain": [
              "[{'val_loss': 9.861156463623047, 'val_acc': 4.673032283782959}]"
            ]
          },
          "metadata": {},
          "execution_count": 16
        }
      ]
    },
    {
      "cell_type": "code",
      "source": [
        "epochs = 25\n",
        "history += fit(epochs, 0.001, model, train_dataloader, val_dataloader, test_dataloader)"
      ],
      "metadata": {
        "id": "VfLxVw4vUyTb",
        "colab": {
          "base_uri": "https://localhost:8080/"
        },
        "outputId": "6cee404e-c6f8-4553-be95-de8c9ecf1acb"
      },
      "execution_count": null,
      "outputs": [
        {
          "output_type": "stream",
          "name": "stdout",
          "text": [
            "35.356746673583984\n",
            "Epoch [0], train_loss: 2.0981, train_acc: 35.8672\n",
            "Epoch [0], validation_loss: 2.1290, validation_acc: 34.5775\n",
            "Epoch [0], test_loss: 2.2011, test_acc: 35.3567\n",
            "\n",
            "51.47953414916992\n",
            "Epoch [1], train_loss: 1.2634, train_acc: 61.6060\n",
            "Epoch [1], validation_loss: 1.3028, validation_acc: 60.1707\n",
            "Epoch [1], test_loss: 1.5651, test_acc: 51.4795\n",
            "\n",
            "54.6321907043457\n",
            "Epoch [2], train_loss: 0.8802, train_acc: 74.3768\n",
            "Epoch [2], validation_loss: 0.9203, validation_acc: 72.6128\n",
            "Epoch [2], test_loss: 1.3251, test_acc: 54.6322\n",
            "\n",
            "51.99114990234375\n",
            "Epoch [3], train_loss: 0.9142, train_acc: 68.8093\n",
            "Epoch [3], validation_loss: 0.9575, validation_acc: 67.7373\n",
            "Epoch [3], test_loss: 1.4408, test_acc: 51.9911\n",
            "\n",
            "63.55088424682617\n",
            "Epoch [4], train_loss: 0.5162, train_acc: 85.0094\n",
            "Epoch [4], validation_loss: 0.5361, validation_acc: 84.3895\n",
            "Epoch [4], test_loss: 1.1003, test_acc: 63.5509\n",
            "\n",
            "63.57854080200195\n",
            "Epoch [5], train_loss: 0.4462, train_acc: 85.5145\n",
            "Epoch [5], validation_loss: 0.4758, validation_acc: 84.3895\n",
            "Epoch [5], test_loss: 1.0861, test_acc: 63.5785\n",
            "\n",
            "70.56139373779297\n",
            "Epoch [6], train_loss: 0.2357, train_acc: 94.8400\n",
            "Epoch [6], validation_loss: 0.2618, validation_acc: 93.8947\n",
            "Epoch [6], test_loss: 0.8766, test_acc: 70.5614\n",
            "\n",
            "66.98008728027344\n",
            "Epoch [7], train_loss: 0.3825, train_acc: 87.1807\n",
            "Epoch [7], validation_loss: 0.4057, validation_acc: 86.2413\n",
            "Epoch [7], test_loss: 1.0662, test_acc: 66.9801\n",
            "\n",
            "70.69966888427734\n",
            "Epoch [8], train_loss: 0.1770, train_acc: 95.7523\n",
            "Epoch [8], validation_loss: 0.1878, validation_acc: 95.1823\n",
            "Epoch [8], test_loss: 0.9030, test_acc: 70.6997\n",
            "\n",
            "75.99557495117188\n",
            "Epoch [9], train_loss: 0.0958, train_acc: 99.3286\n",
            "Epoch [9], validation_loss: 0.1025, validation_acc: 99.2477\n",
            "Epoch [9], test_loss: 0.7662, test_acc: 75.9956\n",
            "\n",
            "76.5625\n",
            "Epoch [10], train_loss: 0.0793, train_acc: 99.3837\n",
            "Epoch [10], validation_loss: 0.0872, validation_acc: 99.1030\n",
            "Epoch [10], test_loss: 0.8016, test_acc: 76.5625\n",
            "\n",
            "78.69192504882812\n",
            "Epoch [11], train_loss: 0.0519, train_acc: 99.9321\n",
            "Epoch [11], validation_loss: 0.0589, validation_acc: 99.8264\n",
            "Epoch [11], test_loss: 0.7132, test_acc: 78.6919\n",
            "\n",
            "78.20796203613281\n",
            "Epoch [12], train_loss: 0.0370, train_acc: 99.9563\n",
            "Epoch [12], validation_loss: 0.0424, validation_acc: 99.8264\n",
            "Epoch [12], test_loss: 0.7332, test_acc: 78.2080\n",
            "\n",
            "77.14324951171875\n",
            "Epoch [13], train_loss: 0.0349, train_acc: 100.0000\n",
            "Epoch [13], validation_loss: 0.0383, validation_acc: 99.9711\n",
            "Epoch [13], test_loss: 0.7335, test_acc: 77.1432\n",
            "\n",
            "77.17090606689453\n",
            "Epoch [14], train_loss: 0.0284, train_acc: 99.9903\n",
            "Epoch [14], validation_loss: 0.0329, validation_acc: 99.8987\n",
            "Epoch [14], test_loss: 0.7642, test_acc: 77.1709\n",
            "\n",
            "78.8716812133789\n",
            "Epoch [15], train_loss: 0.0235, train_acc: 99.9951\n",
            "Epoch [15], validation_loss: 0.0267, validation_acc: 99.9566\n",
            "Epoch [15], test_loss: 0.7221, test_acc: 78.8717\n",
            "\n",
            "78.45685577392578\n",
            "Epoch [16], train_loss: 0.0216, train_acc: 100.0000\n",
            "Epoch [16], validation_loss: 0.0249, validation_acc: 99.9566\n",
            "Epoch [16], test_loss: 0.7563, test_acc: 78.4569\n",
            "\n",
            "78.04203796386719\n",
            "Epoch [17], train_loss: 0.0199, train_acc: 99.9951\n",
            "Epoch [17], validation_loss: 0.0227, validation_acc: 99.9711\n",
            "Epoch [17], test_loss: 0.7506, test_acc: 78.0420\n",
            "\n",
            "77.21238708496094\n",
            "Epoch [18], train_loss: 0.0175, train_acc: 100.0000\n",
            "Epoch [18], validation_loss: 0.0197, validation_acc: 99.9855\n",
            "Epoch [18], test_loss: 0.7585, test_acc: 77.2124\n",
            "\n",
            "78.6781005859375\n",
            "Epoch [19], train_loss: 0.0158, train_acc: 99.9951\n",
            "Epoch [19], validation_loss: 0.0182, validation_acc: 99.9566\n",
            "Epoch [19], test_loss: 0.7531, test_acc: 78.6781\n",
            "\n",
            "78.9408187866211\n",
            "Epoch [20], train_loss: 0.0155, train_acc: 99.9951\n",
            "Epoch [20], validation_loss: 0.0178, validation_acc: 99.9711\n",
            "Epoch [20], test_loss: 0.7480, test_acc: 78.9408\n",
            "\n",
            "78.74723815917969\n",
            "Epoch [21], train_loss: 0.0131, train_acc: 100.0000\n",
            "Epoch [21], validation_loss: 0.0150, validation_acc: 100.0000\n",
            "Epoch [21], test_loss: 0.7633, test_acc: 78.7472\n",
            "\n",
            "79.14823150634766\n",
            "Epoch [22], train_loss: 0.0118, train_acc: 100.0000\n",
            "Epoch [22], validation_loss: 0.0139, validation_acc: 99.9855\n",
            "Epoch [22], test_loss: 0.7454, test_acc: 79.1482\n",
            "\n",
            "78.8302001953125\n",
            "Epoch [23], train_loss: 0.0111, train_acc: 100.0000\n",
            "Epoch [23], validation_loss: 0.0132, validation_acc: 99.9711\n",
            "Epoch [23], test_loss: 0.7671, test_acc: 78.8302\n",
            "\n",
            "79.70132446289062\n",
            "Epoch [24], train_loss: 0.0101, train_acc: 100.0000\n",
            "Epoch [24], validation_loss: 0.0117, validation_acc: 99.9855\n",
            "Epoch [24], test_loss: 0.7662, test_acc: 79.7013\n",
            "\n"
          ]
        }
      ]
    },
    {
      "cell_type": "code",
      "source": [
        "result = evaluate_tst(model, test_dataloader)\n",
        "result"
      ],
      "metadata": {
        "colab": {
          "base_uri": "https://localhost:8080/"
        },
        "id": "_li7kZSE4jFN",
        "outputId": "1b71c27d-4a13-4a1c-ce07-0de70b982dd4"
      },
      "execution_count": null,
      "outputs": [
        {
          "output_type": "execute_result",
          "data": {
            "text/plain": [
              "{'test_loss': 0.7494469285011292, 'test_acc': 79.90873718261719}"
            ]
          },
          "metadata": {},
          "execution_count": 24
        }
      ]
    },
    {
      "cell_type": "code",
      "source": [
        "x=range(1,26)\n",
        "y1 = []\n",
        "y2 = []\n",
        "for i in history[1:26]:\n",
        "  y1.append(i[0][\"train_loss\"])\n",
        "  y2.append(i[2][\"test_loss\"])\n",
        "plt.plot(x,y1)\n",
        "plt.plot(x,y2)"
      ],
      "metadata": {
        "colab": {
          "base_uri": "https://localhost:8080/",
          "height": 282
        },
        "id": "WYr_pTN6qYio",
        "outputId": "f3b9c649-c98b-49e9-bb04-d77c93d30132"
      },
      "execution_count": null,
      "outputs": [
        {
          "output_type": "execute_result",
          "data": {
            "text/plain": [
              "[<matplotlib.lines.Line2D at 0x7fdf0c257ac0>]"
            ]
          },
          "metadata": {},
          "execution_count": 26
        },
        {
          "output_type": "display_data",
          "data": {
            "text/plain": [
              "<Figure size 432x288 with 1 Axes>"
            ],
            "image/png": "[encoded data removed]"
          },
          "metadata": {
            "needs_background": "light"
          }
        }
      ]
    },
    {
      "cell_type": "code",
      "source": [
        "def evaluate_val(model, val_loader):\n",
        "    outputs = [model.validation_part(batch) for batch in val_loader]\n",
        "    return model.validation_epoch_end(outputs)\n",
        "def evaluate_tst(model, tst_loader):\n",
        "    outputs = [model.test_part(batch) for batch in tst_loader]\n",
        "    return model.test_epoch_end(outputs)\n",
        "def evaluate_trn(model, trn_loader):\n",
        "    outputs = [model.train_part(batch) for batch in trn_loader]\n",
        "    return model.train_epoch_end(outputs)\n",
        "def fit1(epochs, LEARNING_RATE, model, train_loader, val_loader, tst_loader, opt_func=torch.optim.Adam):\n",
        "    history = []\n",
        "    optimizer = opt_func(model.parameters(),LEARNING_RATE )\n",
        "    for epoch in range(epochs):\n",
        "        # Training Phase\n",
        "        for batch in train_loader:\n",
        "            loss = model.training_part(batch)\n",
        "\n",
        "           # Backpropagation\n",
        "            loss.backward()\n",
        "            optimizer.step()\n",
        "            optimizer.zero_grad()\n",
        "        trn_r = evaluate_trn(model, train_loader)\n",
        "        val_r = evaluate_val(model, val_loader)\n",
        "        tst_r = evaluate_tst(model, tst_loader)\n",
        "        print(tst_r['test_acc'])\n",
        "        model.epoch_end(epoch, trn_r, val_r, tst_r)\n",
        "        history.append([trn_r, val_r, tst_r])\n",
        "    return history"
      ],
      "metadata": {
        "id": "3ltvyrLe51Ur"
      },
      "execution_count": null,
      "outputs": []
    },
    {
      "cell_type": "code",
      "source": [
        "torch.manual_seed(51)\n",
        "model_p = NeuralNetwork(input_size, out_size = 26).to(device)\n",
        "model_p.train()"
      ],
      "metadata": {
        "colab": {
          "base_uri": "https://localhost:8080/"
        },
        "id": "TAl_u49N6A1l",
        "outputId": "4f04d674-ed9d-4358-c8e7-2c2f709c25ca"
      },
      "execution_count": null,
      "outputs": [
        {
          "output_type": "execute_result",
          "data": {
            "text/plain": [
              "NeuralNetwork(\n",
              "  (flatten): Flatten(start_dim=1, end_dim=-1)\n",
              "  (linear1): Linear(in_features=784, out_features=416, bias=True)\n",
              "  (linear2): Linear(in_features=416, out_features=208, bias=True)\n",
              "  (linear3): Linear(in_features=208, out_features=104, bias=True)\n",
              "  (linear5): Linear(in_features=104, out_features=26, bias=True)\n",
              "  (relu): ReLU()\n",
              ")"
            ]
          },
          "metadata": {},
          "execution_count": 71
        }
      ]
    },
    {
      "cell_type": "code",
      "source": [
        "history=[]\n",
        "epochs = 17\n",
        "history += fit1(epochs, .001, model_p, train_dataloader, val_dataloader, test_dataloader)"
      ],
      "metadata": {
        "id": "_Atds-7_7jh-",
        "colab": {
          "base_uri": "https://localhost:8080/"
        },
        "outputId": "24d036e0-4fa3-4780-a2f9-190fa4b77a65"
      },
      "execution_count": null,
      "outputs": [
        {
          "output_type": "stream",
          "name": "stdout",
          "text": [
            "25.760509490966797\n",
            "Epoch [0], train_loss: 2.1796, train_acc: 30.4157\n",
            "Epoch [0], validation_loss: 2.2102, validation_acc: 30.0926\n",
            "Epoch [0], test_loss: 2.3614, test_acc: 25.7605\n",
            "\n",
            "52.986724853515625\n",
            "Epoch [1], train_loss: 1.2513, train_acc: 58.4880\n",
            "Epoch [1], validation_loss: 1.2922, validation_acc: 57.9572\n",
            "Epoch [1], test_loss: 1.4684, test_acc: 52.9867\n",
            "\n",
            "56.982852935791016\n",
            "Epoch [2], train_loss: 0.8498, train_acc: 71.0427\n",
            "Epoch [2], validation_loss: 0.9041, validation_acc: 69.1406\n",
            "Epoch [2], test_loss: 1.3820, test_acc: 56.9829\n",
            "\n",
            "64.97511291503906\n",
            "Epoch [3], train_loss: 0.5688, train_acc: 79.7256\n",
            "Epoch [3], validation_loss: 0.6099, validation_acc: 77.9369\n",
            "Epoch [3], test_loss: 1.2216, test_acc: 64.9751\n",
            "\n",
            "65.26548767089844\n",
            "Epoch [4], train_loss: 0.3679, train_acc: 86.6358\n",
            "Epoch [4], validation_loss: 0.3903, validation_acc: 86.1400\n",
            "Epoch [4], test_loss: 1.2115, test_acc: 65.2655\n",
            "\n",
            "66.39933776855469\n",
            "Epoch [5], train_loss: 0.3824, train_acc: 86.3518\n",
            "Epoch [5], validation_loss: 0.4042, validation_acc: 85.5469\n",
            "Epoch [5], test_loss: 1.2391, test_acc: 66.3993\n",
            "\n",
            "70.5060806274414\n",
            "Epoch [6], train_loss: 0.3123, train_acc: 88.5508\n",
            "Epoch [6], validation_loss: 0.3501, validation_acc: 87.4855\n",
            "Epoch [6], test_loss: 1.1555, test_acc: 70.5061\n",
            "\n",
            "63.60619354248047\n",
            "Epoch [7], train_loss: 0.4796, train_acc: 82.9097\n",
            "Epoch [7], validation_loss: 0.4820, validation_acc: 83.3333\n",
            "Epoch [7], test_loss: 1.5678, test_acc: 63.6062\n",
            "\n",
            "73.27156829833984\n",
            "Epoch [8], train_loss: 0.2766, train_acc: 91.0463\n",
            "Epoch [8], validation_loss: 0.2874, validation_acc: 90.6684\n",
            "Epoch [8], test_loss: 1.1465, test_acc: 73.2716\n",
            "\n",
            "75.02765655517578\n",
            "Epoch [9], train_loss: 0.0784, train_acc: 97.6139\n",
            "Epoch [9], validation_loss: 0.0905, validation_acc: 97.2222\n",
            "Epoch [9], test_loss: 1.0160, test_acc: 75.0277\n",
            "\n",
            "67.75442504882812\n",
            "Epoch [10], train_loss: 0.3682, train_acc: 88.1613\n",
            "Epoch [10], validation_loss: 0.3927, validation_acc: 87.5434\n",
            "Epoch [10], test_loss: 1.5406, test_acc: 67.7544\n",
            "\n",
            "80.15763092041016\n",
            "Epoch [11], train_loss: 0.0111, train_acc: 99.9466\n",
            "Epoch [11], validation_loss: 0.0128, validation_acc: 99.8843\n",
            "Epoch [11], test_loss: 0.9432, test_acc: 80.1576\n",
            "\n",
            "72.12389373779297\n",
            "Epoch [12], train_loss: 0.2233, train_acc: 92.2938\n",
            "Epoch [12], validation_loss: 0.2405, validation_acc: 91.6956\n",
            "Epoch [12], test_loss: 1.3123, test_acc: 72.1239\n",
            "\n",
            "77.95906829833984\n",
            "Epoch [13], train_loss: 0.0787, train_acc: 97.1221\n",
            "Epoch [13], validation_loss: 0.0866, validation_acc: 96.9907\n",
            "Epoch [13], test_loss: 1.2274, test_acc: 77.9591\n",
            "\n",
            "81.23617553710938\n",
            "Epoch [14], train_loss: 0.0151, train_acc: 99.6149\n",
            "Epoch [14], validation_loss: 0.0184, validation_acc: 99.4358\n",
            "Epoch [14], test_loss: 1.0510, test_acc: 81.2362\n",
            "\n",
            "81.55420684814453\n",
            "Epoch [15], train_loss: 0.0014, train_acc: 100.0000\n",
            "Epoch [15], validation_loss: 0.0017, validation_acc: 100.0000\n",
            "Epoch [15], test_loss: 1.0081, test_acc: 81.5542\n",
            "\n",
            "81.67864990234375\n",
            "Epoch [16], train_loss: 0.0008, train_acc: 100.0000\n",
            "Epoch [16], validation_loss: 0.0009, validation_acc: 100.0000\n",
            "Epoch [16], test_loss: 1.0491, test_acc: 81.6786\n",
            "\n"
          ]
        }
      ]
    },
    {
      "cell_type": "code",
      "source": [
        "result = evaluate_tst(model_p, test_dataloader)\n",
        "result"
      ],
      "metadata": {
        "colab": {
          "base_uri": "https://localhost:8080/"
        },
        "id": "t5JqVv3Z7ohM",
        "outputId": "5184cd13-4cf9-42f4-c0d8-3595256b1a95"
      },
      "execution_count": null,
      "outputs": [
        {
          "output_type": "execute_result",
          "data": {
            "text/plain": [
              "{'test_loss': 1.0491809844970703, 'test_acc': 81.67864990234375}"
            ]
          },
          "metadata": {},
          "execution_count": 75
        }
      ]
    },
    {
      "cell_type": "code",
      "source": [
        "x=range(1,19)\n",
        "y1 = []\n",
        "y2 = []\n",
        "for i in history[1:19]:\n",
        "  y1.append(i[0][\"train_loss\"])\n",
        "  y2.append(i[2][\"test_loss\"])\n",
        "plt.plot(x,y1)\n",
        "plt.plot(x,y2)"
      ],
      "metadata": {
        "colab": {
          "base_uri": "https://localhost:8080/",
          "height": 285
        },
        "id": "E7QTrlFjsoFa",
        "outputId": "2dca7e08-7b27-437d-a800-04914ab4ecde"
      },
      "execution_count": null,
      "outputs": [
        {
          "output_type": "execute_result",
          "data": {
            "text/plain": [
              "[<matplotlib.lines.Line2D at 0x7fdee9a65f40>]"
            ]
          },
          "metadata": {},
          "execution_count": 68
        },
        {
          "output_type": "display_data",
          "data": {
            "text/plain": [
              "<Figure size 432x288 with 1 Axes>"
            ],
            "image/png": "[encoded data removed]"
          },
          "metadata": {
            "needs_background": "light"
          }
        }
      ]
    },
    {
      "cell_type": "markdown",
      "source": [
        "استفاده از اپتیمایزر آدام دقت را افزایش داد."
      ],
      "metadata": {
        "id": "79sLvVYZFeHL"
      }
    },
    {
      "cell_type": "code",
      "source": [
        "class NeuralNetworkdropout(nn.Module):\n",
        "    def __init__(self, in_size, out_size):\n",
        "        super().__init__()\n",
        "        self.flatten = nn.Flatten()\n",
        "        self.dropout1 = nn.Dropout()\n",
        "        self.dropout2 = nn.Dropout()\n",
        "        self.dropout3 = nn.Dropout()\n",
        "        self.linear1 = nn.Linear(in_size, 416)\n",
        "        self.linear2 = nn.Linear(416,208)\n",
        "        self.linear3 = nn.Linear(208,104)\n",
        "        self.linear4=nn.Linear(104,26)\n",
        "        self.relu = nn.ReLU()\n",
        "    def forward(self, x):\n",
        "        x = self.flatten(x)\n",
        "        x = self.linear1(x)\n",
        "        x = self.relu(x)\n",
        "        # x = self.dropout1(x)\n",
        "        x = self.linear2(x)\n",
        "        x = self.relu(x)\n",
        "        x = self.dropout1(x)\n",
        "        x = self.linear3(x)\n",
        "        x = self.relu(x)\n",
        "        # x = self.dropout3(x)\n",
        "        x = self.linear4(x)\n",
        "        return x\n",
        "    def training_part(self, batch):\n",
        "        images, labels = batch\n",
        "        out = self.forward(images)\n",
        "        loss = F.cross_entropy(out, labels)\n",
        "        return loss\n",
        "\n",
        "    def train_part(self, batch):\n",
        "        images, labels = batch\n",
        "        out = self.forward(images)\n",
        "        loss = F.cross_entropy(out, labels)\n",
        "        acc = accuracy(out, labels)\n",
        "        return {'train_loss': loss, 'train_acc': acc}\n",
        "    def train_epoch_end(self, outputs):\n",
        "        batch_losses = [x['train_loss'] for x in outputs]\n",
        "        epoch_loss = torch.stack(batch_losses).mean()\n",
        "        batch_accs = [x['train_acc'] for x in outputs]\n",
        "        epoch_acc = torch.stack(batch_accs).mean()\n",
        "        return {'train_loss': epoch_loss.item(), 'train_acc': epoch_acc.item()}\n",
        "\n",
        "    def validation_part(self, batch):\n",
        "        images, labels = batch\n",
        "        out = self.forward(images)\n",
        "        loss = F.cross_entropy(out, labels)\n",
        "        acc = accuracy(out, labels)\n",
        "        return {'val_loss': loss, 'val_acc': acc}\n",
        "    def validation_epoch_end(self, outputs):\n",
        "        batch_losses = [x['val_loss'] for x in outputs]\n",
        "        epoch_loss = torch.stack(batch_losses).mean()\n",
        "        batch_accs = [x['val_acc'] for x in outputs]\n",
        "        epoch_acc = torch.stack(batch_accs).mean()\n",
        "        return {'val_loss': epoch_loss.item(), 'val_acc': epoch_acc.item()}\n",
        "\n",
        "    def test_part(self, batch):\n",
        "        images, labels = batch\n",
        "        out = self.forward(images)\n",
        "        loss = F.cross_entropy(out, labels)\n",
        "        acc = accuracy(out, labels)\n",
        "        return {'test_loss': loss, 'test_acc': acc}\n",
        "    def test_epoch_end(self, outputs):\n",
        "        batch_losses = [x['test_loss'] for x in outputs]\n",
        "        epoch_loss = torch.stack(batch_losses).mean()\n",
        "        batch_accs = [x['test_acc'] for x in outputs]\n",
        "        epoch_acc = torch.stack(batch_accs).mean()\n",
        "        return {'test_loss': epoch_loss.item(), 'test_acc': epoch_acc.item()}\n",
        "\n",
        "    def epoch_end(self, epoch,  trn_r, val_r, tst_r):\n",
        "        print(\"Epoch [{}], train_loss: {:.4f}, train_acc: {:.4f}\".format(epoch, trn_r['train_loss'], trn_r['train_acc']))\n",
        "        print(\"Epoch [{}], validation_loss: {:.4f}, validation_acc: {:.4f}\".format(epoch, val_r['val_loss'], val_r['val_acc']))\n",
        "        print(\"Epoch [{}], test_loss: {:.4f}, test_acc: {:.4f}\\n\".format(epoch, tst_r['test_loss'], tst_r['test_acc']))"
      ],
      "metadata": {
        "id": "IG9og3IS7um8"
      },
      "execution_count": null,
      "outputs": []
    },
    {
      "cell_type": "code",
      "source": [
        "torch.manual_seed(62)\n",
        "model =NeuralNetworkdropout(input_size, out_size = 26).to(device)\n",
        "model.train()\n",
        "history=[]\n",
        "history = [evaluate_val(model, val_dataloader)]\n",
        "history\n",
        "epoch = 79\n",
        "history += fit(epoch, 0.001, model, train_dataloader, val_dataloader, test_dataloader)"
      ],
      "metadata": {
        "id": "x1tzulq1Uf82",
        "colab": {
          "base_uri": "https://localhost:8080/"
        },
        "outputId": "64bac8b5-d67a-444e-d230-2e661b37cfaa"
      },
      "execution_count": null,
      "outputs": [
        {
          "output_type": "stream",
          "name": "stdout",
          "text": [
            "17.36725616455078\n",
            "Epoch [0], train_loss: 2.7742, train_acc: 18.2223\n",
            "Epoch [0], validation_loss: 2.7769, validation_acc: 18.1134\n",
            "Epoch [0], test_loss: 2.8277, test_acc: 17.3673\n",
            "\n",
            "27.405973434448242\n",
            "Epoch [1], train_loss: 2.2892, train_acc: 29.2758\n",
            "Epoch [1], validation_loss: 2.3115, validation_acc: 28.5880\n",
            "Epoch [1], test_loss: 2.4207, test_acc: 27.4060\n",
            "\n",
            "32.20409393310547\n",
            "Epoch [2], train_loss: 1.9095, train_acc: 38.9256\n",
            "Epoch [2], validation_loss: 1.9363, validation_acc: 37.7894\n",
            "Epoch [2], test_loss: 2.1317, test_acc: 32.2041\n",
            "\n",
            "32.59126281738281\n",
            "Epoch [3], train_loss: 1.7736, train_acc: 42.7356\n",
            "Epoch [3], validation_loss: 1.7826, validation_acc: 42.7228\n",
            "Epoch [3], test_loss: 2.1355, test_acc: 32.5913\n",
            "\n",
            "41.025997161865234\n",
            "Epoch [4], train_loss: 1.4874, train_acc: 51.1388\n",
            "Epoch [4], validation_loss: 1.5384, validation_acc: 48.5388\n",
            "Epoch [4], test_loss: 1.8385, test_acc: 41.0260\n",
            "\n",
            "41.85564041137695\n",
            "Epoch [5], train_loss: 1.4176, train_acc: 52.2496\n",
            "Epoch [5], validation_loss: 1.4435, validation_acc: 51.8808\n",
            "Epoch [5], test_loss: 1.8425, test_acc: 41.8556\n",
            "\n",
            "51.714603424072266\n",
            "Epoch [6], train_loss: 1.1004, train_acc: 63.6604\n",
            "Epoch [6], validation_loss: 1.1318, validation_acc: 62.8906\n",
            "Epoch [6], test_loss: 1.4831, test_acc: 51.7146\n",
            "\n",
            "50.17975616455078\n",
            "Epoch [7], train_loss: 1.0866, train_acc: 63.3030\n",
            "Epoch [7], validation_loss: 1.1515, validation_acc: 61.5017\n",
            "Epoch [7], test_loss: 1.6003, test_acc: 50.1798\n",
            "\n",
            "48.02267837524414\n",
            "Epoch [8], train_loss: 1.2464, train_acc: 58.7333\n",
            "Epoch [8], validation_loss: 1.2967, validation_acc: 57.9716\n",
            "Epoch [8], test_loss: 1.7847, test_acc: 48.0227\n",
            "\n",
            "48.299224853515625\n",
            "Epoch [9], train_loss: 1.0983, train_acc: 63.3692\n",
            "Epoch [9], validation_loss: 1.1517, validation_acc: 62.5000\n",
            "Epoch [9], test_loss: 1.7538, test_acc: 48.2992\n",
            "\n",
            "56.44358444213867\n",
            "Epoch [10], train_loss: 0.8484, train_acc: 71.0065\n",
            "Epoch [10], validation_loss: 0.9116, validation_acc: 68.7934\n",
            "Epoch [10], test_loss: 1.4264, test_acc: 56.4436\n",
            "\n",
            "54.27267837524414\n",
            "Epoch [11], train_loss: 0.8030, train_acc: 72.4941\n",
            "Epoch [11], validation_loss: 0.8085, validation_acc: 72.9745\n",
            "Epoch [11], test_loss: 1.4905, test_acc: 54.2727\n",
            "\n",
            "60.34292221069336\n",
            "Epoch [12], train_loss: 0.6986, train_acc: 76.7117\n",
            "Epoch [12], validation_loss: 0.7300, validation_acc: 74.9421\n",
            "Epoch [12], test_loss: 1.2647, test_acc: 60.3429\n",
            "\n",
            "61.11725616455078\n",
            "Epoch [13], train_loss: 0.6039, train_acc: 79.5747\n",
            "Epoch [13], validation_loss: 0.6406, validation_acc: 77.6331\n",
            "Epoch [13], test_loss: 1.2810, test_acc: 61.1173\n",
            "\n",
            "60.48119354248047\n",
            "Epoch [14], train_loss: 0.5919, train_acc: 79.7723\n",
            "Epoch [14], validation_loss: 0.6283, validation_acc: 78.9786\n",
            "Epoch [14], test_loss: 1.2998, test_acc: 60.4812\n",
            "\n",
            "62.804203033447266\n",
            "Epoch [15], train_loss: 0.5359, train_acc: 81.9877\n",
            "Epoch [15], validation_loss: 0.5679, validation_acc: 80.7870\n",
            "Epoch [15], test_loss: 1.2576, test_acc: 62.8042\n",
            "\n",
            "63.01161575317383\n",
            "Epoch [16], train_loss: 0.5245, train_acc: 81.9043\n",
            "Epoch [16], validation_loss: 0.5532, validation_acc: 80.9172\n",
            "Epoch [16], test_loss: 1.2984, test_acc: 63.0116\n",
            "\n",
            "66.74502563476562\n",
            "Epoch [17], train_loss: 0.3981, train_acc: 86.7082\n",
            "Epoch [17], validation_loss: 0.4264, validation_acc: 85.8507\n",
            "Epoch [17], test_loss: 1.1772, test_acc: 66.7450\n",
            "\n",
            "66.98008728027344\n",
            "Epoch [18], train_loss: 0.3920, train_acc: 86.8150\n",
            "Epoch [18], validation_loss: 0.4155, validation_acc: 85.7350\n",
            "Epoch [18], test_loss: 1.1104, test_acc: 66.9801\n",
            "\n",
            "64.47732543945312\n",
            "Epoch [19], train_loss: 0.4280, train_acc: 85.2802\n",
            "Epoch [19], validation_loss: 0.4512, validation_acc: 84.1869\n",
            "Epoch [19], test_loss: 1.2260, test_acc: 64.4773\n",
            "\n",
            "65.90155029296875\n",
            "Epoch [20], train_loss: 0.3608, train_acc: 87.7775\n",
            "Epoch [20], validation_loss: 0.4028, validation_acc: 86.2124\n",
            "Epoch [20], test_loss: 1.2228, test_acc: 65.9016\n",
            "\n",
            "64.8091812133789\n",
            "Epoch [21], train_loss: 0.4180, train_acc: 85.4743\n",
            "Epoch [21], validation_loss: 0.4337, validation_acc: 84.6209\n",
            "Epoch [21], test_loss: 1.2701, test_acc: 64.8092\n",
            "\n",
            "67.15984344482422\n",
            "Epoch [22], train_loss: 0.2885, train_acc: 90.0048\n",
            "Epoch [22], validation_loss: 0.2999, validation_acc: 90.0318\n",
            "Epoch [22], test_loss: 1.2038, test_acc: 67.1598\n",
            "\n",
            "67.62997436523438\n",
            "Epoch [23], train_loss: 0.3317, train_acc: 89.0815\n",
            "Epoch [23], validation_loss: 0.3477, validation_acc: 88.4838\n",
            "Epoch [23], test_loss: 1.1679, test_acc: 67.6300\n",
            "\n",
            "69.63495635986328\n",
            "Epoch [24], train_loss: 0.2181, train_acc: 93.3923\n",
            "Epoch [24], validation_loss: 0.2304, validation_acc: 92.7662\n",
            "Epoch [24], test_loss: 1.1177, test_acc: 69.6350\n",
            "\n",
            "70.2710189819336\n",
            "Epoch [25], train_loss: 0.2209, train_acc: 92.9798\n",
            "Epoch [25], validation_loss: 0.2413, validation_acc: 92.0718\n",
            "Epoch [25], test_loss: 1.0751, test_acc: 70.2710\n",
            "\n",
            "68.5564193725586\n",
            "Epoch [26], train_loss: 0.2409, train_acc: 91.7385\n",
            "Epoch [26], validation_loss: 0.2478, validation_acc: 91.2616\n",
            "Epoch [26], test_loss: 1.2036, test_acc: 68.5564\n",
            "\n",
            "68.03097534179688\n",
            "Epoch [27], train_loss: 0.2742, train_acc: 90.8187\n",
            "Epoch [27], validation_loss: 0.3025, validation_acc: 89.9306\n",
            "Epoch [27], test_loss: 1.1753, test_acc: 68.0310\n",
            "\n",
            "68.52876281738281\n",
            "Epoch [28], train_loss: 0.2467, train_acc: 92.0331\n",
            "Epoch [28], validation_loss: 0.2580, validation_acc: 91.5220\n",
            "Epoch [28], test_loss: 1.1872, test_acc: 68.5288\n",
            "\n",
            "71.33573150634766\n",
            "Epoch [29], train_loss: 0.1644, train_acc: 94.9402\n",
            "Epoch [29], validation_loss: 0.1787, validation_acc: 94.1406\n",
            "Epoch [29], test_loss: 1.1128, test_acc: 71.3357\n",
            "\n",
            "69.17864990234375\n",
            "Epoch [30], train_loss: 0.2440, train_acc: 91.6352\n",
            "Epoch [30], validation_loss: 0.2588, validation_acc: 91.1748\n",
            "Epoch [30], test_loss: 1.1459, test_acc: 69.1786\n",
            "\n",
            "69.09568786621094\n",
            "Epoch [31], train_loss: 0.2172, train_acc: 93.0491\n",
            "Epoch [31], validation_loss: 0.2295, validation_acc: 92.3032\n",
            "Epoch [31], test_loss: 1.1326, test_acc: 69.0957\n",
            "\n",
            "70.02212524414062\n",
            "Epoch [32], train_loss: 0.2000, train_acc: 93.2612\n",
            "Epoch [32], validation_loss: 0.2259, validation_acc: 92.5781\n",
            "Epoch [32], test_loss: 1.2103, test_acc: 70.0221\n",
            "\n",
            "69.82853698730469\n",
            "Epoch [33], train_loss: 0.1627, train_acc: 94.7170\n",
            "Epoch [33], validation_loss: 0.1661, validation_acc: 94.9219\n",
            "Epoch [33], test_loss: 1.1950, test_acc: 69.8285\n",
            "\n",
            "70.5752182006836\n",
            "Epoch [34], train_loss: 0.1792, train_acc: 94.3222\n",
            "Epoch [34], validation_loss: 0.1890, validation_acc: 94.2564\n",
            "Epoch [34], test_loss: 1.1376, test_acc: 70.5752\n",
            "\n",
            "72.87057495117188\n",
            "Epoch [35], train_loss: 0.1231, train_acc: 96.1758\n",
            "Epoch [35], validation_loss: 0.1331, validation_acc: 95.9635\n",
            "Epoch [35], test_loss: 1.1282, test_acc: 72.8706\n",
            "\n",
            "71.10066223144531\n",
            "Epoch [36], train_loss: 0.1500, train_acc: 95.4109\n",
            "Epoch [36], validation_loss: 0.1499, validation_acc: 95.5440\n",
            "Epoch [36], test_loss: 1.1458, test_acc: 71.1007\n",
            "\n",
            "71.6122817993164\n",
            "Epoch [37], train_loss: 0.1262, train_acc: 95.8882\n",
            "Epoch [37], validation_loss: 0.1380, validation_acc: 95.6453\n",
            "Epoch [37], test_loss: 1.2191, test_acc: 71.6123\n",
            "\n",
            "72.1377182006836\n",
            "Epoch [38], train_loss: 0.1321, train_acc: 95.7201\n",
            "Epoch [38], validation_loss: 0.1362, validation_acc: 95.6308\n",
            "Epoch [38], test_loss: 1.1432, test_acc: 72.1377\n",
            "\n",
            "72.31747436523438\n",
            "Epoch [39], train_loss: 0.1243, train_acc: 96.0077\n",
            "Epoch [39], validation_loss: 0.1288, validation_acc: 96.0069\n",
            "Epoch [39], test_loss: 1.1872, test_acc: 72.3175\n",
            "\n",
            "73.68639373779297\n",
            "Epoch [40], train_loss: 0.0916, train_acc: 97.2372\n",
            "Epoch [40], validation_loss: 0.1129, validation_acc: 96.4699\n",
            "Epoch [40], test_loss: 1.1298, test_acc: 73.6864\n",
            "\n",
            "71.9164810180664\n",
            "Epoch [41], train_loss: 0.1162, train_acc: 96.2976\n",
            "Epoch [41], validation_loss: 0.1265, validation_acc: 95.7176\n",
            "Epoch [41], test_loss: 1.2163, test_acc: 71.9165\n",
            "\n",
            "73.85232543945312\n",
            "Epoch [42], train_loss: 0.0919, train_acc: 97.1176\n",
            "Epoch [42], validation_loss: 0.1084, validation_acc: 96.6291\n",
            "Epoch [42], test_loss: 1.1131, test_acc: 73.8523\n",
            "\n",
            "73.78318786621094\n",
            "Epoch [43], train_loss: 0.0918, train_acc: 97.3325\n",
            "Epoch [43], validation_loss: 0.1013, validation_acc: 97.2656\n",
            "Epoch [43], test_loss: 1.0919, test_acc: 73.7832\n",
            "\n",
            "72.6908187866211\n",
            "Epoch [44], train_loss: 0.1091, train_acc: 96.4996\n",
            "Epoch [44], validation_loss: 0.1237, validation_acc: 95.7755\n",
            "Epoch [44], test_loss: 1.1902, test_acc: 72.6908\n",
            "\n",
            "74.05973815917969\n",
            "Epoch [45], train_loss: 0.0745, train_acc: 97.9748\n",
            "Epoch [45], validation_loss: 0.0822, validation_acc: 97.4971\n",
            "Epoch [45], test_loss: 1.1046, test_acc: 74.0597\n",
            "\n",
            "74.36393737792969\n",
            "Epoch [46], train_loss: 0.0791, train_acc: 97.6223\n",
            "Epoch [46], validation_loss: 0.0972, validation_acc: 97.1065\n",
            "Epoch [46], test_loss: 1.1148, test_acc: 74.3639\n",
            "\n",
            "73.34070587158203\n",
            "Epoch [47], train_loss: 0.0851, train_acc: 97.4313\n",
            "Epoch [47], validation_loss: 0.0913, validation_acc: 97.2656\n",
            "Epoch [47], test_loss: 1.1831, test_acc: 73.3407\n",
            "\n",
            "70.96238708496094\n",
            "Epoch [48], train_loss: 0.1390, train_acc: 95.2036\n",
            "Epoch [48], validation_loss: 0.1646, validation_acc: 94.4589\n",
            "Epoch [48], test_loss: 1.3749, test_acc: 70.9624\n",
            "\n",
            "74.15652465820312\n",
            "Epoch [49], train_loss: 0.0776, train_acc: 97.6642\n",
            "Epoch [49], validation_loss: 0.0862, validation_acc: 97.2222\n",
            "Epoch [49], test_loss: 1.1529, test_acc: 74.1565\n",
            "\n",
            "73.53429412841797\n",
            "Epoch [50], train_loss: 0.0915, train_acc: 97.1498\n",
            "Epoch [50], validation_loss: 0.0944, validation_acc: 96.8461\n",
            "Epoch [50], test_loss: 1.2037, test_acc: 73.5343\n",
            "\n",
            "73.96294403076172\n",
            "Epoch [51], train_loss: 0.0716, train_acc: 97.7141\n",
            "Epoch [51], validation_loss: 0.0750, validation_acc: 97.7720\n",
            "Epoch [51], test_loss: 1.1671, test_acc: 73.9629\n",
            "\n",
            "74.4468994140625\n",
            "Epoch [52], train_loss: 0.0573, train_acc: 98.3272\n",
            "Epoch [52], validation_loss: 0.0614, validation_acc: 98.3362\n",
            "Epoch [52], test_loss: 1.2157, test_acc: 74.4469\n",
            "\n",
            "74.61283111572266\n",
            "Epoch [53], train_loss: 0.0532, train_acc: 98.5377\n",
            "Epoch [53], validation_loss: 0.0548, validation_acc: 98.4375\n",
            "Epoch [53], test_loss: 1.1721, test_acc: 74.6128\n",
            "\n",
            "74.58517456054688\n",
            "Epoch [54], train_loss: 0.0651, train_acc: 98.2337\n",
            "Epoch [54], validation_loss: 0.0733, validation_acc: 97.7575\n",
            "Epoch [54], test_loss: 1.1251, test_acc: 74.5852\n",
            "\n",
            "73.72787475585938\n",
            "Epoch [55], train_loss: 0.0665, train_acc: 97.9408\n",
            "Epoch [55], validation_loss: 0.0699, validation_acc: 97.9745\n",
            "Epoch [55], test_loss: 1.2536, test_acc: 73.7279\n",
            "\n",
            "75.24889373779297\n",
            "Epoch [56], train_loss: 0.0590, train_acc: 98.3210\n",
            "Epoch [56], validation_loss: 0.0627, validation_acc: 98.2784\n",
            "Epoch [56], test_loss: 1.1371, test_acc: 75.2489\n",
            "\n",
            "75.02765655517578\n",
            "Epoch [57], train_loss: 0.0490, train_acc: 98.6541\n",
            "Epoch [57], validation_loss: 0.0551, validation_acc: 98.4375\n",
            "Epoch [57], test_loss: 1.2114, test_acc: 75.0277\n",
            "\n",
            "73.92146301269531\n",
            "Epoch [58], train_loss: 0.0612, train_acc: 98.1495\n",
            "Epoch [58], validation_loss: 0.0712, validation_acc: 97.8154\n",
            "Epoch [58], test_loss: 1.2452, test_acc: 73.9215\n",
            "\n",
            "74.8893814086914\n",
            "Epoch [59], train_loss: 0.0546, train_acc: 98.4132\n",
            "Epoch [59], validation_loss: 0.0590, validation_acc: 98.0903\n",
            "Epoch [59], test_loss: 1.1731, test_acc: 74.8894\n",
            "\n",
            "74.8064193725586\n",
            "Epoch [60], train_loss: 0.0574, train_acc: 98.2319\n",
            "Epoch [60], validation_loss: 0.0714, validation_acc: 97.6128\n",
            "Epoch [60], test_loss: 1.2302, test_acc: 74.8064\n",
            "\n",
            "75.40099334716797\n",
            "Epoch [61], train_loss: 0.0494, train_acc: 98.5279\n",
            "Epoch [61], validation_loss: 0.0568, validation_acc: 98.3941\n",
            "Epoch [61], test_loss: 1.1322, test_acc: 75.4010\n",
            "\n",
            "72.78761291503906\n",
            "Epoch [62], train_loss: 0.0584, train_acc: 98.2077\n",
            "Epoch [62], validation_loss: 0.0620, validation_acc: 98.0035\n",
            "Epoch [62], test_loss: 1.3009, test_acc: 72.7876\n",
            "\n",
            "76.03705596923828\n",
            "Epoch [63], train_loss: 0.0429, train_acc: 98.8142\n",
            "Epoch [63], validation_loss: 0.0451, validation_acc: 98.7124\n",
            "Epoch [63], test_loss: 1.1420, test_acc: 76.0371\n",
            "\n",
            "75.31803131103516\n",
            "Epoch [64], train_loss: 0.0531, train_acc: 98.3484\n",
            "Epoch [64], validation_loss: 0.0534, validation_acc: 98.3507\n",
            "Epoch [64], test_loss: 1.2270, test_acc: 75.3180\n",
            "\n",
            "75.7466812133789\n",
            "Epoch [65], train_loss: 0.0418, train_acc: 98.7706\n",
            "Epoch [65], validation_loss: 0.0463, validation_acc: 98.6256\n",
            "Epoch [65], test_loss: 1.1904, test_acc: 75.7467\n",
            "\n",
            "75.95409393310547\n",
            "Epoch [66], train_loss: 0.0438, train_acc: 98.7238\n",
            "Epoch [66], validation_loss: 0.0491, validation_acc: 98.4664\n",
            "Epoch [66], test_loss: 1.1240, test_acc: 75.9541\n",
            "\n",
            "75.94026184082031\n",
            "Epoch [67], train_loss: 0.0455, train_acc: 98.6978\n",
            "Epoch [67], validation_loss: 0.0496, validation_acc: 98.5243\n",
            "Epoch [67], test_loss: 1.1603, test_acc: 75.9403\n",
            "\n",
            "74.82024383544922\n",
            "Epoch [68], train_loss: 0.0481, train_acc: 98.4763\n",
            "Epoch [68], validation_loss: 0.0558, validation_acc: 98.3796\n",
            "Epoch [68], test_loss: 1.3025, test_acc: 74.8202\n",
            "\n",
            "73.79701232910156\n",
            "Epoch [69], train_loss: 0.0712, train_acc: 97.7096\n",
            "Epoch [69], validation_loss: 0.0790, validation_acc: 97.1933\n",
            "Epoch [69], test_loss: 1.2520, test_acc: 73.7970\n",
            "\n",
            "76.34126281738281\n",
            "Epoch [70], train_loss: 0.0462, train_acc: 98.5685\n",
            "Epoch [70], validation_loss: 0.0487, validation_acc: 98.6111\n",
            "Epoch [70], test_loss: 1.1541, test_acc: 76.3413\n",
            "\n",
            "75.7052001953125\n",
            "Epoch [71], train_loss: 0.0396, train_acc: 98.8416\n",
            "Epoch [71], validation_loss: 0.0437, validation_acc: 98.8571\n",
            "Epoch [71], test_loss: 1.1814, test_acc: 75.7052\n",
            "\n",
            "76.38274383544922\n",
            "Epoch [72], train_loss: 0.0349, train_acc: 98.9858\n",
            "Epoch [72], validation_loss: 0.0347, validation_acc: 99.1464\n",
            "Epoch [72], test_loss: 1.1248, test_acc: 76.3827\n",
            "\n",
            "76.74225616455078\n",
            "Epoch [73], train_loss: 0.0301, train_acc: 99.2042\n",
            "Epoch [73], validation_loss: 0.0307, validation_acc: 99.0885\n",
            "Epoch [73], test_loss: 1.2484, test_acc: 76.7423\n",
            "\n",
            "76.32743072509766\n",
            "Epoch [74], train_loss: 0.0309, train_acc: 99.1570\n",
            "Epoch [74], validation_loss: 0.0323, validation_acc: 99.2188\n",
            "Epoch [74], test_loss: 1.1712, test_acc: 76.3274\n",
            "\n",
            "76.65929412841797\n",
            "Epoch [75], train_loss: 0.0311, train_acc: 99.2170\n",
            "Epoch [75], validation_loss: 0.0353, validation_acc: 98.9149\n",
            "Epoch [75], test_loss: 1.1747, test_acc: 76.6593\n",
            "\n",
            "74.93086242675781\n",
            "Epoch [76], train_loss: 0.0730, train_acc: 97.5495\n",
            "Epoch [76], validation_loss: 0.0785, validation_acc: 97.2801\n",
            "Epoch [76], test_loss: 1.2018, test_acc: 74.9309\n",
            "\n",
            "76.03705596923828\n",
            "Epoch [77], train_loss: 0.0346, train_acc: 99.0586\n",
            "Epoch [77], validation_loss: 0.0393, validation_acc: 98.7847\n",
            "Epoch [77], test_loss: 1.2738, test_acc: 76.0371\n",
            "\n",
            "76.38274383544922\n",
            "Epoch [78], train_loss: 0.0319, train_acc: 99.1993\n",
            "Epoch [78], validation_loss: 0.0340, validation_acc: 99.0741\n",
            "Epoch [78], test_loss: 1.1831, test_acc: 76.3827\n",
            "\n"
          ]
        }
      ]
    },
    {
      "cell_type": "code",
      "source": [
        "result = evaluate_tst(model, test_dataloader)\n",
        "result"
      ],
      "metadata": {
        "id": "beb1GpblSeLz",
        "colab": {
          "base_uri": "https://localhost:8080/"
        },
        "outputId": "4f3e993d-7ac4-407e-cd12-c6da93f48cdf"
      },
      "execution_count": null,
      "outputs": [
        {
          "output_type": "execute_result",
          "data": {
            "text/plain": [
              "{'test_loss': 1.1706476211547852, 'test_acc': 76.46570587158203}"
            ]
          },
          "metadata": {},
          "execution_count": 194
        }
      ]
    },
    {
      "cell_type": "code",
      "source": [
        "x=range(1,79)\n",
        "y1 = []\n",
        "y2 = []\n",
        "for i in history[1:79]:\n",
        "  y1.append(i[0][\"train_loss\"])\n",
        "  y2.append(i[2][\"test_loss\"])\n",
        "plt.plot(x,y1)\n",
        "plt.plot(x,y2)"
      ],
      "metadata": {
        "colab": {
          "base_uri": "https://localhost:8080/",
          "height": 282
        },
        "id": "xfgyGhAAGTja",
        "outputId": "d75c664b-ed30-41df-b36f-05efc8654864"
      },
      "execution_count": null,
      "outputs": [
        {
          "output_type": "execute_result",
          "data": {
            "text/plain": [
              "[<matplotlib.lines.Line2D at 0x7fdee9277b50>]"
            ]
          },
          "metadata": {},
          "execution_count": 195
        },
        {
          "output_type": "display_data",
          "data": {
            "text/plain": [
              "<Figure size 432x288 with 1 Axes>"
            ],
            "image/png": "[encoded data removed]"
          },
          "metadata": {
            "needs_background": "light"
          }
        }
      ]
    },
    {
      "cell_type": "code",
      "source": [
        "torch.manual_seed(13)\n",
        "model =NeuralNetworkdropout(input_size, out_size = 26).to(device)\n",
        "model.train()"
      ],
      "metadata": {
        "colab": {
          "base_uri": "https://localhost:8080/"
        },
        "id": "pbTfGdPxjNFH",
        "outputId": "4b26f22a-8a13-422f-b166-5cdd58b35198"
      },
      "execution_count": null,
      "outputs": [
        {
          "output_type": "execute_result",
          "data": {
            "text/plain": [
              "NeuralNetworkdropout(\n",
              "  (flatten): Flatten(start_dim=1, end_dim=-1)\n",
              "  (dropout1): Dropout(p=0.5, inplace=False)\n",
              "  (linear1): Linear(in_features=784, out_features=416, bias=True)\n",
              "  (linear2): Linear(in_features=416, out_features=208, bias=True)\n",
              "  (linear3): Linear(in_features=208, out_features=104, bias=True)\n",
              "  (linear4): Linear(in_features=104, out_features=26, bias=True)\n",
              "  (relu): ReLU()\n",
              ")"
            ]
          },
          "metadata": {},
          "execution_count": 150
        }
      ]
    },
    {
      "cell_type": "code",
      "source": [
        "history = []\n",
        "history = [evaluate_val(model, val_dataloader)]\n",
        "history"
      ],
      "metadata": {
        "colab": {
          "base_uri": "https://localhost:8080/"
        },
        "id": "Vet7PqIk9mTO",
        "outputId": "531b271e-3743-4821-85f2-8049a1fc44c2"
      },
      "execution_count": null,
      "outputs": [
        {
          "output_type": "execute_result",
          "data": {
            "text/plain": [
              "[{'val_loss': 13.87363052368164, 'val_acc': 4.513888835906982}]"
            ]
          },
          "metadata": {},
          "execution_count": 151
        }
      ]
    },
    {
      "cell_type": "code",
      "source": [
        "history += fit1(63, 0.0003, model, train_dataloader, val_dataloader, test_dataloader)\n",
        "history += fit1(20, 0.00005, model, train_dataloader, val_dataloader, test_dataloader)"
      ],
      "metadata": {
        "colab": {
          "base_uri": "https://localhost:8080/"
        },
        "id": "I40hsYv3928S",
        "outputId": "572aa46c-4fdb-4441-c5c9-fcf8e2ed1598"
      },
      "execution_count": null,
      "outputs": [
        {
          "output_type": "stream",
          "name": "stdout",
          "text": [
            "6.775442600250244\n",
            "Epoch [0], train_loss: 2.9764, train_acc: 7.2028\n",
            "Epoch [0], validation_loss: 2.9814, validation_acc: 7.5087\n",
            "Epoch [0], test_loss: 3.0091, test_acc: 6.7754\n",
            "\n",
            "10.038717269897461\n",
            "Epoch [1], train_loss: 2.8164, train_acc: 11.3958\n",
            "Epoch [1], validation_loss: 2.8325, validation_acc: 11.4439\n",
            "Epoch [1], test_loss: 2.9018, test_acc: 10.0387\n",
            "\n",
            "14.518805503845215\n",
            "Epoch [2], train_loss: 2.5413, train_acc: 16.5579\n",
            "Epoch [2], validation_loss: 2.5572, validation_acc: 15.7552\n",
            "Epoch [2], test_loss: 2.6547, test_acc: 14.5188\n",
            "\n",
            "22.842920303344727\n",
            "Epoch [3], train_loss: 2.1198, train_acc: 27.2206\n",
            "Epoch [3], validation_loss: 2.1647, validation_acc: 25.5932\n",
            "Epoch [3], test_loss: 2.3044, test_acc: 22.8429\n",
            "\n",
            "32.508296966552734\n",
            "Epoch [4], train_loss: 1.8304, train_acc: 37.4337\n",
            "Epoch [4], validation_loss: 1.8676, validation_acc: 35.8362\n",
            "Epoch [4], test_loss: 2.0588, test_acc: 32.5083\n",
            "\n",
            "40.69413757324219\n",
            "Epoch [5], train_loss: 1.6089, train_acc: 45.8280\n",
            "Epoch [5], validation_loss: 1.6404, validation_acc: 45.7755\n",
            "Epoch [5], test_loss: 1.9508, test_acc: 40.6941\n",
            "\n",
            "48.285396575927734\n",
            "Epoch [6], train_loss: 1.2131, train_acc: 57.1285\n",
            "Epoch [6], validation_loss: 1.2375, validation_acc: 56.4381\n",
            "Epoch [6], test_loss: 1.6416, test_acc: 48.2854\n",
            "\n",
            "51.76991271972656\n",
            "Epoch [7], train_loss: 1.0079, train_acc: 64.4597\n",
            "Epoch [7], validation_loss: 1.0709, validation_acc: 62.5868\n",
            "Epoch [7], test_loss: 1.5672, test_acc: 51.7699\n",
            "\n",
            "56.650997161865234\n",
            "Epoch [8], train_loss: 0.9086, train_acc: 67.3134\n",
            "Epoch [8], validation_loss: 0.9460, validation_acc: 66.1458\n",
            "Epoch [8], test_loss: 1.4666, test_acc: 56.6510\n",
            "\n",
            "59.070796966552734\n",
            "Epoch [9], train_loss: 0.6707, train_acc: 75.8992\n",
            "Epoch [9], validation_loss: 0.6943, validation_acc: 74.8553\n",
            "Epoch [9], test_loss: 1.3654, test_acc: 59.0708\n",
            "\n",
            "61.5873908996582\n",
            "Epoch [10], train_loss: 0.5959, train_acc: 78.1216\n",
            "Epoch [10], validation_loss: 0.6140, validation_acc: 77.4161\n",
            "Epoch [10], test_loss: 1.3577, test_acc: 61.5874\n",
            "\n",
            "62.541481018066406\n",
            "Epoch [11], train_loss: 0.5380, train_acc: 81.0312\n",
            "Epoch [11], validation_loss: 0.5625, validation_acc: 80.0637\n",
            "Epoch [11], test_loss: 1.4239, test_acc: 62.5415\n",
            "\n",
            "65.41758728027344\n",
            "Epoch [12], train_loss: 0.4354, train_acc: 84.4487\n",
            "Epoch [12], validation_loss: 0.4641, validation_acc: 82.8848\n",
            "Epoch [12], test_loss: 1.3527, test_acc: 65.4176\n",
            "\n",
            "68.65320587158203\n",
            "Epoch [13], train_loss: 0.3843, train_acc: 85.8815\n",
            "Epoch [13], validation_loss: 0.3958, validation_acc: 86.0822\n",
            "Epoch [13], test_loss: 1.2454, test_acc: 68.6532\n",
            "\n",
            "65.50054931640625\n",
            "Epoch [14], train_loss: 0.3959, train_acc: 85.9301\n",
            "Epoch [14], validation_loss: 0.4155, validation_acc: 85.4311\n",
            "Epoch [14], test_loss: 1.5454, test_acc: 65.5005\n",
            "\n",
            "68.1554183959961\n",
            "Epoch [15], train_loss: 0.3108, train_acc: 88.7674\n",
            "Epoch [15], validation_loss: 0.3312, validation_acc: 88.1366\n",
            "Epoch [15], test_loss: 1.4039, test_acc: 68.1554\n",
            "\n",
            "71.26659393310547\n",
            "Epoch [16], train_loss: 0.2331, train_acc: 91.5174\n",
            "Epoch [16], validation_loss: 0.2462, validation_acc: 91.2326\n",
            "Epoch [16], test_loss: 1.2172, test_acc: 71.2666\n",
            "\n",
            "68.61172485351562\n",
            "Epoch [17], train_loss: 0.2664, train_acc: 90.7971\n",
            "Epoch [17], validation_loss: 0.2814, validation_acc: 90.5093\n",
            "Epoch [17], test_loss: 1.3398, test_acc: 68.6117\n",
            "\n",
            "66.73119354248047\n",
            "Epoch [18], train_loss: 0.3356, train_acc: 88.0960\n",
            "Epoch [18], validation_loss: 0.3488, validation_acc: 87.6447\n",
            "Epoch [18], test_loss: 1.4861, test_acc: 66.7312\n",
            "\n",
            "68.69468688964844\n",
            "Epoch [19], train_loss: 0.2712, train_acc: 90.0966\n",
            "Epoch [19], validation_loss: 0.2999, validation_acc: 89.0625\n",
            "Epoch [19], test_loss: 1.6328, test_acc: 68.6947\n",
            "\n",
            "70.75497436523438\n",
            "Epoch [20], train_loss: 0.2006, train_acc: 92.7275\n",
            "Epoch [20], validation_loss: 0.2008, validation_acc: 93.1134\n",
            "Epoch [20], test_loss: 1.4696, test_acc: 70.7550\n",
            "\n",
            "67.17367553710938\n",
            "Epoch [21], train_loss: 0.3080, train_acc: 89.1053\n",
            "Epoch [21], validation_loss: 0.3217, validation_acc: 88.5417\n",
            "Epoch [21], test_loss: 1.5277, test_acc: 67.1737\n",
            "\n",
            "72.31747436523438\n",
            "Epoch [22], train_loss: 0.2033, train_acc: 92.6516\n",
            "Epoch [22], validation_loss: 0.2170, validation_acc: 92.1586\n",
            "Epoch [22], test_loss: 1.3232, test_acc: 72.3175\n",
            "\n",
            "71.41869354248047\n",
            "Epoch [23], train_loss: 0.2048, train_acc: 92.4786\n",
            "Epoch [23], validation_loss: 0.2216, validation_acc: 91.9416\n",
            "Epoch [23], test_loss: 1.4956, test_acc: 71.4187\n",
            "\n",
            "72.85675048828125\n",
            "Epoch [24], train_loss: 0.1368, train_acc: 95.3703\n",
            "Epoch [24], validation_loss: 0.1353, validation_acc: 95.0666\n",
            "Epoch [24], test_loss: 1.5425, test_acc: 72.8568\n",
            "\n",
            "72.74613189697266\n",
            "Epoch [25], train_loss: 0.1227, train_acc: 95.9447\n",
            "Epoch [25], validation_loss: 0.1291, validation_acc: 95.6742\n",
            "Epoch [25], test_loss: 1.5019, test_acc: 72.7461\n",
            "\n",
            "71.14214324951172\n",
            "Epoch [26], train_loss: 0.1634, train_acc: 94.1651\n",
            "Epoch [26], validation_loss: 0.1750, validation_acc: 93.7645\n",
            "Epoch [26], test_loss: 1.6295, test_acc: 71.1421\n",
            "\n",
            "72.27599334716797\n",
            "Epoch [27], train_loss: 0.1355, train_acc: 95.7276\n",
            "Epoch [27], validation_loss: 0.1503, validation_acc: 94.9508\n",
            "Epoch [27], test_loss: 1.4359, test_acc: 72.2760\n",
            "\n",
            "70.10508728027344\n",
            "Epoch [28], train_loss: 0.1987, train_acc: 93.0394\n",
            "Epoch [28], validation_loss: 0.2144, validation_acc: 92.3611\n",
            "Epoch [28], test_loss: 1.6029, test_acc: 70.1051\n",
            "\n",
            "74.32245635986328\n",
            "Epoch [29], train_loss: 0.0952, train_acc: 96.5689\n",
            "Epoch [29], validation_loss: 0.1097, validation_acc: 96.2095\n",
            "Epoch [29], test_loss: 1.5262, test_acc: 74.3225\n",
            "\n",
            "74.51603698730469\n",
            "Epoch [30], train_loss: 0.1075, train_acc: 96.3977\n",
            "Epoch [30], validation_loss: 0.1135, validation_acc: 96.0214\n",
            "Epoch [30], test_loss: 1.5346, test_acc: 74.5160\n",
            "\n",
            "71.8335189819336\n",
            "Epoch [31], train_loss: 0.1415, train_acc: 95.1634\n",
            "Epoch [31], validation_loss: 0.1620, validation_acc: 94.4010\n",
            "Epoch [31], test_loss: 1.7166, test_acc: 71.8335\n",
            "\n",
            "74.62665557861328\n",
            "Epoch [32], train_loss: 0.0755, train_acc: 97.6077\n",
            "Epoch [32], validation_loss: 0.0816, validation_acc: 97.3814\n",
            "Epoch [32], test_loss: 1.5856, test_acc: 74.6267\n",
            "\n",
            "73.65873718261719\n",
            "Epoch [33], train_loss: 0.1279, train_acc: 95.8459\n",
            "Epoch [33], validation_loss: 0.1572, validation_acc: 95.2112\n",
            "Epoch [33], test_loss: 1.5271, test_acc: 73.6587\n",
            "\n",
            "71.1697998046875\n",
            "Epoch [34], train_loss: 0.2232, train_acc: 92.4637\n",
            "Epoch [34], validation_loss: 0.2385, validation_acc: 91.8547\n",
            "Epoch [34], test_loss: 1.7294, test_acc: 71.1698\n",
            "\n",
            "74.91703796386719\n",
            "Epoch [35], train_loss: 0.0759, train_acc: 97.7048\n",
            "Epoch [35], validation_loss: 0.0850, validation_acc: 97.0631\n",
            "Epoch [35], test_loss: 1.4170, test_acc: 74.9170\n",
            "\n",
            "74.30863189697266\n",
            "Epoch [36], train_loss: 0.0942, train_acc: 96.7162\n",
            "Epoch [36], validation_loss: 0.1001, validation_acc: 96.4699\n",
            "Epoch [36], test_loss: 1.6807, test_acc: 74.3086\n",
            "\n",
            "75.48396301269531\n",
            "Epoch [37], train_loss: 0.0730, train_acc: 97.5248\n",
            "Epoch [37], validation_loss: 0.0728, validation_acc: 97.5694\n",
            "Epoch [37], test_loss: 1.5286, test_acc: 75.4840\n",
            "\n",
            "75.42864990234375\n",
            "Epoch [38], train_loss: 0.0694, train_acc: 97.6223\n",
            "Epoch [38], validation_loss: 0.0758, validation_acc: 97.4392\n",
            "Epoch [38], test_loss: 1.7150, test_acc: 75.4286\n",
            "\n",
            "72.22068786621094\n",
            "Epoch [39], train_loss: 0.1789, train_acc: 93.9891\n",
            "Epoch [39], validation_loss: 0.1848, validation_acc: 93.6632\n",
            "Epoch [39], test_loss: 1.8127, test_acc: 72.2207\n",
            "\n",
            "73.86614990234375\n",
            "Epoch [40], train_loss: 0.1364, train_acc: 95.2362\n",
            "Epoch [40], validation_loss: 0.1466, validation_acc: 95.0376\n",
            "Epoch [40], test_loss: 1.6034, test_acc: 73.8661\n",
            "\n",
            "73.97676849365234\n",
            "Epoch [41], train_loss: 0.0706, train_acc: 97.6735\n",
            "Epoch [41], validation_loss: 0.0744, validation_acc: 97.3958\n",
            "Epoch [41], test_loss: 1.6995, test_acc: 73.9768\n",
            "\n",
            "75.1935806274414\n",
            "Epoch [42], train_loss: 0.0690, train_acc: 97.6368\n",
            "Epoch [42], validation_loss: 0.0677, validation_acc: 97.7286\n",
            "Epoch [42], test_loss: 1.8131, test_acc: 75.1936\n",
            "\n",
            "72.49723815917969\n",
            "Epoch [43], train_loss: 0.1399, train_acc: 94.9984\n",
            "Epoch [43], validation_loss: 0.1675, validation_acc: 94.2998\n",
            "Epoch [43], test_loss: 1.6736, test_acc: 72.4972\n",
            "\n",
            "69.91150665283203\n",
            "Epoch [44], train_loss: 0.1922, train_acc: 93.6914\n",
            "Epoch [44], validation_loss: 0.1978, validation_acc: 93.5041\n",
            "Epoch [44], test_loss: 1.8822, test_acc: 69.9115\n",
            "\n",
            "72.78761291503906\n",
            "Epoch [45], train_loss: 0.1339, train_acc: 95.6178\n",
            "Epoch [45], validation_loss: 0.1382, validation_acc: 95.3704\n",
            "Epoch [45], test_loss: 1.9922, test_acc: 72.7876\n",
            "\n",
            "74.8893814086914\n",
            "Epoch [46], train_loss: 0.0993, train_acc: 96.5058\n",
            "Epoch [46], validation_loss: 0.1075, validation_acc: 96.3252\n",
            "Epoch [46], test_loss: 1.7892, test_acc: 74.8894\n",
            "\n",
            "67.80973815917969\n",
            "Epoch [47], train_loss: 0.2923, train_acc: 90.9285\n",
            "Epoch [47], validation_loss: 0.2978, validation_acc: 90.4948\n",
            "Epoch [47], test_loss: 2.2467, test_acc: 67.8097\n",
            "\n",
            "74.35011291503906\n",
            "Epoch [48], train_loss: 0.0686, train_acc: 97.7242\n",
            "Epoch [48], validation_loss: 0.0790, validation_acc: 97.3235\n",
            "Epoch [48], test_loss: 1.8727, test_acc: 74.3501\n",
            "\n",
            "75.63606262207031\n",
            "Epoch [49], train_loss: 0.0810, train_acc: 97.3408\n",
            "Epoch [49], validation_loss: 0.0926, validation_acc: 96.8027\n",
            "Epoch [49], test_loss: 1.8165, test_acc: 75.6361\n",
            "\n",
            "75.1106185913086\n",
            "Epoch [50], train_loss: 0.0741, train_acc: 97.4652\n",
            "Epoch [50], validation_loss: 0.0747, validation_acc: 97.3669\n",
            "Epoch [50], test_loss: 1.7191, test_acc: 75.1106\n",
            "\n",
            "75.92643737792969\n",
            "Epoch [51], train_loss: 0.0433, train_acc: 98.6898\n",
            "Epoch [51], validation_loss: 0.0490, validation_acc: 98.4375\n",
            "Epoch [51], test_loss: 1.6990, test_acc: 75.9264\n",
            "\n",
            "72.93971252441406\n",
            "Epoch [52], train_loss: 0.1554, train_acc: 95.3478\n",
            "Epoch [52], validation_loss: 0.1705, validation_acc: 95.0087\n",
            "Epoch [52], test_loss: 2.0731, test_acc: 72.9397\n",
            "\n",
            "74.90320587158203\n",
            "Epoch [53], train_loss: 0.0788, train_acc: 97.1516\n",
            "Epoch [53], validation_loss: 0.0863, validation_acc: 97.2222\n",
            "Epoch [53], test_loss: 1.7283, test_acc: 74.9032\n",
            "\n",
            "73.50663757324219\n",
            "Epoch [54], train_loss: 0.1041, train_acc: 96.5741\n",
            "Epoch [54], validation_loss: 0.1172, validation_acc: 96.1082\n",
            "Epoch [54], test_loss: 1.8953, test_acc: 73.5066\n",
            "\n",
            "73.46515655517578\n",
            "Epoch [55], train_loss: 0.1649, train_acc: 94.5939\n",
            "Epoch [55], validation_loss: 0.1958, validation_acc: 93.4462\n",
            "Epoch [55], test_loss: 2.0438, test_acc: 73.4652\n",
            "\n",
            "75.20741271972656\n",
            "Epoch [56], train_loss: 0.1002, train_acc: 96.5984\n",
            "Epoch [56], validation_loss: 0.0992, validation_acc: 96.7593\n",
            "Epoch [56], test_loss: 1.5755, test_acc: 75.2074\n",
            "\n",
            "74.66814422607422\n",
            "Epoch [57], train_loss: 0.0931, train_acc: 96.8071\n",
            "Epoch [57], validation_loss: 0.1026, validation_acc: 96.3108\n",
            "Epoch [57], test_loss: 1.7192, test_acc: 74.6681\n",
            "\n",
            "74.79258728027344\n",
            "Epoch [58], train_loss: 0.0631, train_acc: 97.7467\n",
            "Epoch [58], validation_loss: 0.0648, validation_acc: 97.9456\n",
            "Epoch [58], test_loss: 2.0222, test_acc: 74.7926\n",
            "\n",
            "70.03594970703125\n",
            "Epoch [59], train_loss: 0.1691, train_acc: 94.5652\n",
            "Epoch [59], validation_loss: 0.1923, validation_acc: 94.3287\n",
            "Epoch [59], test_loss: 2.2635, test_acc: 70.0359\n",
            "\n",
            "75.2627182006836\n",
            "Epoch [60], train_loss: 0.0482, train_acc: 98.5231\n",
            "Epoch [60], validation_loss: 0.0518, validation_acc: 98.4954\n",
            "Epoch [60], test_loss: 1.8344, test_acc: 75.2627\n",
            "\n",
            "74.28097534179688\n",
            "Epoch [61], train_loss: 0.0616, train_acc: 98.0701\n",
            "Epoch [61], validation_loss: 0.0650, validation_acc: 97.7575\n",
            "Epoch [61], test_loss: 2.1112, test_acc: 74.2810\n",
            "\n",
            "77.72400665283203\n",
            "Epoch [62], train_loss: 0.0373, train_acc: 98.8208\n",
            "Epoch [62], validation_loss: 0.0404, validation_acc: 98.7124\n",
            "Epoch [62], test_loss: 1.7314, test_acc: 77.7240\n",
            "\n",
            "78.53982543945312\n",
            "Epoch [0], train_loss: 0.0169, train_acc: 99.4953\n",
            "Epoch [0], validation_loss: 0.0182, validation_acc: 99.4792\n",
            "Epoch [0], test_loss: 1.7195, test_acc: 78.5398\n",
            "\n",
            "78.11117553710938\n",
            "Epoch [1], train_loss: 0.0168, train_acc: 99.5390\n",
            "Epoch [1], validation_loss: 0.0173, validation_acc: 99.3056\n",
            "Epoch [1], test_loss: 1.8148, test_acc: 78.1112\n",
            "\n",
            "78.56747436523438\n",
            "Epoch [2], train_loss: 0.0118, train_acc: 99.6603\n",
            "Epoch [2], validation_loss: 0.0147, validation_acc: 99.4502\n",
            "Epoch [2], test_loss: 1.8396, test_acc: 78.5675\n",
            "\n",
            "77.44745635986328\n",
            "Epoch [3], train_loss: 0.0158, train_acc: 99.5293\n",
            "Epoch [3], validation_loss: 0.0114, validation_acc: 99.6238\n",
            "Epoch [3], test_loss: 1.8879, test_acc: 77.4475\n",
            "\n",
            "79.06526184082031\n",
            "Epoch [4], train_loss: 0.0150, train_acc: 99.5470\n",
            "Epoch [4], validation_loss: 0.0168, validation_acc: 99.4647\n",
            "Epoch [4], test_loss: 1.8751, test_acc: 79.0653\n",
            "\n",
            "79.03761291503906\n",
            "Epoch [5], train_loss: 0.0109, train_acc: 99.6652\n",
            "Epoch [5], validation_loss: 0.0165, validation_acc: 99.5081\n",
            "Epoch [5], test_loss: 1.9479, test_acc: 79.0376\n",
            "\n",
            "78.30475616455078\n",
            "Epoch [6], train_loss: 0.0113, train_acc: 99.6603\n",
            "Epoch [6], validation_loss: 0.0132, validation_acc: 99.6528\n",
            "Epoch [6], test_loss: 1.9659, test_acc: 78.3048\n",
            "\n",
            "78.02820587158203\n",
            "Epoch [7], train_loss: 0.0114, train_acc: 99.6264\n",
            "Epoch [7], validation_loss: 0.0132, validation_acc: 99.6094\n",
            "Epoch [7], test_loss: 2.0376, test_acc: 78.0282\n",
            "\n",
            "78.20796203613281\n",
            "Epoch [8], train_loss: 0.0140, train_acc: 99.4808\n",
            "Epoch [8], validation_loss: 0.0170, validation_acc: 99.3490\n",
            "Epoch [8], test_loss: 2.0609, test_acc: 78.2080\n",
            "\n",
            "77.94524383544922\n",
            "Epoch [9], train_loss: 0.0095, train_acc: 99.7380\n",
            "Epoch [9], validation_loss: 0.0100, validation_acc: 99.7396\n",
            "Epoch [9], test_loss: 1.9824, test_acc: 77.9452\n",
            "\n",
            "77.00497436523438\n",
            "Epoch [10], train_loss: 0.0227, train_acc: 99.2382\n",
            "Epoch [10], validation_loss: 0.0265, validation_acc: 98.9583\n",
            "Epoch [10], test_loss: 2.1373, test_acc: 77.0050\n",
            "\n",
            "78.42920684814453\n",
            "Epoch [11], train_loss: 0.0100, train_acc: 99.6700\n",
            "Epoch [11], validation_loss: 0.0131, validation_acc: 99.5804\n",
            "Epoch [11], test_loss: 2.0481, test_acc: 78.4292\n",
            "\n",
            "78.92699432373047\n",
            "Epoch [12], train_loss: 0.0101, train_acc: 99.6780\n",
            "Epoch [12], validation_loss: 0.0114, validation_acc: 99.5804\n",
            "Epoch [12], test_loss: 2.0318, test_acc: 78.9270\n",
            "\n",
            "78.04203796386719\n",
            "Epoch [13], train_loss: 0.0112, train_acc: 99.6586\n",
            "Epoch [13], validation_loss: 0.0154, validation_acc: 99.4792\n",
            "Epoch [13], test_loss: 2.1361, test_acc: 78.0420\n",
            "\n",
            "78.92699432373047\n",
            "Epoch [14], train_loss: 0.0098, train_acc: 99.7040\n",
            "Epoch [14], validation_loss: 0.0113, validation_acc: 99.6383\n",
            "Epoch [14], test_loss: 2.0201, test_acc: 78.9270\n",
            "\n",
            "78.00054931640625\n",
            "Epoch [15], train_loss: 0.0111, train_acc: 99.6506\n",
            "Epoch [15], validation_loss: 0.0136, validation_acc: 99.5370\n",
            "Epoch [15], test_loss: 2.0523, test_acc: 78.0005\n",
            "\n",
            "78.02820587158203\n",
            "Epoch [16], train_loss: 0.0131, train_acc: 99.5875\n",
            "Epoch [16], validation_loss: 0.0127, validation_acc: 99.6528\n",
            "Epoch [16], test_loss: 2.0855, test_acc: 78.0282\n",
            "\n",
            "77.08794403076172\n",
            "Epoch [17], train_loss: 0.0137, train_acc: 99.5778\n",
            "Epoch [17], validation_loss: 0.0197, validation_acc: 99.2477\n",
            "Epoch [17], test_loss: 2.0911, test_acc: 77.0879\n",
            "\n",
            "78.91316223144531\n",
            "Epoch [18], train_loss: 0.0100, train_acc: 99.6974\n",
            "Epoch [18], validation_loss: 0.0121, validation_acc: 99.6672\n",
            "Epoch [18], test_loss: 2.0563, test_acc: 78.9132\n",
            "\n",
            "79.71515655517578\n",
            "Epoch [19], train_loss: 0.0105, train_acc: 99.6361\n",
            "Epoch [19], validation_loss: 0.0111, validation_acc: 99.5949\n",
            "Epoch [19], test_loss: 2.0092, test_acc: 79.7152\n",
            "\n"
          ]
        }
      ]
    },
    {
      "cell_type": "code",
      "source": [
        "evaluate_tst(model, test_dataloader)"
      ],
      "metadata": {
        "colab": {
          "base_uri": "https://localhost:8080/"
        },
        "id": "8ikfMRml94RP",
        "outputId": "3a6e5d82-b161-41ae-b478-4b384d8f2aff"
      },
      "execution_count": null,
      "outputs": [
        {
          "output_type": "execute_result",
          "data": {
            "text/plain": [
              "{'test_loss': 2.0562191009521484, 'test_acc': 79.77046203613281}"
            ]
          },
          "metadata": {},
          "execution_count": 164
        }
      ]
    },
    {
      "cell_type": "code",
      "source": [
        "len(history)"
      ],
      "metadata": {
        "colab": {
          "base_uri": "https://localhost:8080/"
        },
        "id": "cmf-DZP7CDj2",
        "outputId": "53d834b8-c4a2-481a-84fc-f93d1b218a05"
      },
      "execution_count": null,
      "outputs": [
        {
          "output_type": "execute_result",
          "data": {
            "text/plain": [
              "84"
            ]
          },
          "metadata": {},
          "execution_count": 155
        }
      ]
    },
    {
      "cell_type": "code",
      "source": [
        "x=range(1,84)\n",
        "y1 = []\n",
        "y2 = []\n",
        "for i in history[1:84]:\n",
        "  y1.append(i[0][\"train_loss\"])\n",
        "  y2.append(i[2][\"test_loss\"])\n",
        "plt.plot(x,y1)\n",
        "plt.plot(x,y2)"
      ],
      "metadata": {
        "colab": {
          "base_uri": "https://localhost:8080/",
          "height": 282
        },
        "id": "jfGgS3upCC0N",
        "outputId": "34d05b55-e06f-46b8-f549-2532a2eaf096"
      },
      "execution_count": null,
      "outputs": [
        {
          "output_type": "execute_result",
          "data": {
            "text/plain": [
              "[<matplotlib.lines.Line2D at 0x7fdee9d26850>]"
            ]
          },
          "metadata": {},
          "execution_count": 161
        },
        {
          "output_type": "display_data",
          "data": {
            "text/plain": [
              "<Figure size 432x288 with 1 Axes>"
            ],
            "image/png": "[encoded data removed]"
          },
          "metadata": {
            "needs_background": "light"
          }
        }
      ]
    },
    {
      "cell_type": "markdown",
      "source": [
        "در حالتی که از شبکه بدون دراپ‌اوت و اپتیمایزر اس.جی.دی استفاده شد دقت 79.9 به دست آمد.استفاده از الگوریتم آدام در این حالت دقت 81.67 را داد. در این دو حالت با اضافه شدن یک لایه دراپ اوت به شبکه دقت‌ها به ترتیب 76.5 و 79.7 شد. در هر دو شبکه با استفاده از اپتیمایزر آدام دقت افزایش پیدا کرد. به صورت کلی دراپ اوت روند آموزش را سریع تر کرد و به نظر می رسد در  صورتی که برای به دست آوردن دقت بالاتر تلاش شود دقت بهتری هم خواهد داد."
      ],
      "metadata": {
        "id": "5X1GCACIGQJE"
      }
    },
    {
      "cell_type": "markdown",
      "source": [
        "d:\n",
        "\n",
        "بهترین شبکه به دست آمده شبکه‌ اول و با الگوریتم اپتیمایزیشن آدام است\n",
        "\n",
        "accuracy: 81.67"
      ],
      "metadata": {
        "id": "CRq3EKy5L6sF"
      }
    },
    {
      "cell_type": "markdown",
      "source": [
        "e:"
      ],
      "metadata": {
        "id": "EohpGgdcc1go"
      }
    },
    {
      "cell_type": "code",
      "source": [
        "model_p"
      ],
      "metadata": {
        "id": "hB3_lJHYd1he",
        "colab": {
          "base_uri": "https://localhost:8080/"
        },
        "outputId": "231eb43b-25ad-4deb-bec7-d3f24dcbc9ee"
      },
      "execution_count": null,
      "outputs": [
        {
          "output_type": "execute_result",
          "data": {
            "text/plain": [
              "NeuralNetwork(\n",
              "  (flatten): Flatten(start_dim=1, end_dim=-1)\n",
              "  (linear1): Linear(in_features=784, out_features=416, bias=True)\n",
              "  (linear2): Linear(in_features=416, out_features=208, bias=True)\n",
              "  (linear3): Linear(in_features=208, out_features=104, bias=True)\n",
              "  (linear5): Linear(in_features=104, out_features=26, bias=True)\n",
              "  (relu): ReLU()\n",
              ")"
            ]
          },
          "metadata": {},
          "execution_count": 76
        }
      ]
    },
    {
      "cell_type": "code",
      "source": [
        "import cv2 as cv\n",
        "import numpy as np\n",
        "img_u = cv.imread('/content/drive/MyDrive/Colab_Notebooks/Deep_Learning/hw2/hand_signs/u.jpg')\n",
        "img_v = cv.imread('/content/drive/MyDrive/Colab_Notebooks/Deep_Learning/hw2/hand_signs/v.jpg')\n",
        "img_w = cv.imread('/content/drive/MyDrive/Colab_Notebooks/Deep_Learning/hw2/hand_signs/w.jpg')\n",
        "img_y = cv.imread('/content/drive/MyDrive/Colab_Notebooks/Deep_Learning/hw2/hand_signs/y.jpg')\n",
        "images = [img_u, img_v, img_w, img_y]\n",
        "images_gray = []\n",
        "for img in images:\n",
        "  img_gray = cv.cvtColor(img, cv.COLOR_BGR2GRAY)\n",
        "  img_gray_rs = cv.resize(img_gray, (28, 28))\n",
        "  img_gray_rs_f = cv.resize(img_gray, (1,28*28))\n",
        "  images_gray.append(img_gray_rs_f)\n",
        "images_gray = np.array(images_gray)"
      ],
      "metadata": {
        "id": "nds9HoXVTjwH"
      },
      "execution_count": null,
      "outputs": []
    },
    {
      "cell_type": "code",
      "source": [
        "im_z_m = images_gray - images_gray.mean(axis=0)\n",
        "im_z_m_u_v = im_z_m/im_z_m.std()\n",
        "im_z_m_u_v.shape\n",
        "im_z_m_u_v\n",
        "labels = np.array([[20], [21], [22], [24]])\n",
        "labels = np.array(labels)\n",
        "t_images = im_z_m_u_v.reshape(im_z_m_u_v.shape[0],1,28,28)\n",
        "X = torch.from_numpy(t_images).type(torch.float32).to(device)\n",
        "y = torch.from_numpy(labels).type(torch.int64).to(device)\n",
        "test_f = TensorDataset(X, y)\n",
        "my_test_data = DataLoader(test_f,4,  shuffle=True)\n"
      ],
      "metadata": {
        "id": "sdNZQ4VAV1qu"
      },
      "execution_count": null,
      "outputs": []
    },
    {
      "cell_type": "code",
      "source": [
        "for i, j in my_test_data:\n",
        "  print(i.shape, j.shape)"
      ],
      "metadata": {
        "colab": {
          "base_uri": "https://localhost:8080/"
        },
        "id": "ieBr8oJxY4Iy",
        "outputId": "94c2fe58-dd61-4a8c-fb2b-67212bb96605"
      },
      "execution_count": null,
      "outputs": [
        {
          "output_type": "stream",
          "name": "stdout",
          "text": [
            "torch.Size([4, 1, 28, 28]) torch.Size([4, 1])\n"
          ]
        }
      ]
    },
    {
      "cell_type": "code",
      "source": [
        "predicted_label = model_p.forward(X).argmax(1)\n",
        "true_label =[20,21,22,24]\n",
        "print(predicted_label,\"\\n\", true_label)"
      ],
      "metadata": {
        "colab": {
          "base_uri": "https://localhost:8080/"
        },
        "id": "NMnU2D3gPXgO",
        "outputId": "1da938b1-5213-4333-fedc-2b3edb3aeaa2"
      },
      "execution_count": null,
      "outputs": [
        {
          "output_type": "stream",
          "name": "stdout",
          "text": [
            "tensor([12, 15, 22, 11]) \n",
            " [20, 21, 22, 24]\n"
          ]
        }
      ]
    },
    {
      "cell_type": "code",
      "source": [],
      "metadata": {
        "id": "w--75e7HVVtl"
      },
      "execution_count": null,
      "outputs": []
    }
  ]
}